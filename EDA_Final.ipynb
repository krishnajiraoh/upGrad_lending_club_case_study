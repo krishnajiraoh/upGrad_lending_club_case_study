{
 "cells": [
  {
   "cell_type": "markdown",
   "metadata": {},
   "source": [
    "## Load libraries"
   ]
  },
  {
   "cell_type": "code",
   "execution_count": 1,
   "metadata": {},
   "outputs": [],
   "source": [
    "import pandas as pd\n",
    "import numpy as np\n",
    "\n",
    "import seaborn as sns\n",
    "import matplotlib.pyplot as plt"
   ]
  },
  {
   "cell_type": "code",
   "execution_count": 2,
   "metadata": {},
   "outputs": [],
   "source": [
    "pd.set_option('display.max_rows', 500)\n",
    "pd.set_option('display.max_columns', 500)"
   ]
  },
  {
   "cell_type": "markdown",
   "metadata": {},
   "source": [
    "## Load Data"
   ]
  },
  {
   "cell_type": "code",
   "execution_count": 3,
   "metadata": {},
   "outputs": [
    {
     "name": "stderr",
     "output_type": "stream",
     "text": [
      "/Users/I301903/opt/anaconda3/lib/python3.9/site-packages/IPython/core/interactiveshell.py:3444: DtypeWarning: Columns (47) have mixed types.Specify dtype option on import or set low_memory=False.\n",
      "  exec(code_obj, self.user_global_ns, self.user_ns)\n"
     ]
    },
    {
     "data": {
      "text/plain": [
       "(39717, 111)"
      ]
     },
     "execution_count": 3,
     "metadata": {},
     "output_type": "execute_result"
    }
   ],
   "source": [
    "loan_df = pd.read_csv(\"loan.csv\")\n",
    "loan_df.shape"
   ]
  },
  {
   "cell_type": "markdown",
   "metadata": {},
   "source": [
    "## Data Understanding"
   ]
  },
  {
   "cell_type": "code",
   "execution_count": 4,
   "metadata": {},
   "outputs": [
    {
     "name": "stdout",
     "output_type": "stream",
     "text": [
      "Shape: (39717, 111)\n"
     ]
    }
   ],
   "source": [
    "print(f\"Shape: {loan_df.shape}\")"
   ]
  },
  {
   "cell_type": "code",
   "execution_count": 5,
   "metadata": {},
   "outputs": [
    {
     "data": {
      "text/plain": [
       "Index(['id', 'member_id', 'loan_amnt', 'funded_amnt', 'funded_amnt_inv',\n",
       "       'term', 'int_rate', 'installment', 'grade', 'sub_grade',\n",
       "       ...\n",
       "       'num_tl_90g_dpd_24m', 'num_tl_op_past_12m', 'pct_tl_nvr_dlq',\n",
       "       'percent_bc_gt_75', 'pub_rec_bankruptcies', 'tax_liens',\n",
       "       'tot_hi_cred_lim', 'total_bal_ex_mort', 'total_bc_limit',\n",
       "       'total_il_high_credit_limit'],\n",
       "      dtype='object', length=111)"
      ]
     },
     "execution_count": 5,
     "metadata": {},
     "output_type": "execute_result"
    }
   ],
   "source": [
    "loan_df.columns"
   ]
  },
  {
   "cell_type": "code",
   "execution_count": 6,
   "metadata": {},
   "outputs": [
    {
     "name": "stdout",
     "output_type": "stream",
     "text": [
      "ID columns: ['id', 'member_id']\n"
     ]
    }
   ],
   "source": [
    "id_cols = [\"id\", \"member_id\"]\n",
    "print(f\"ID columns: {id_cols}\")"
   ]
  },
  {
   "cell_type": "code",
   "execution_count": 7,
   "metadata": {},
   "outputs": [
    {
     "name": "stdout",
     "output_type": "stream",
     "text": [
      "<class 'pandas.core.frame.DataFrame'>\n",
      "RangeIndex: 39717 entries, 0 to 39716\n",
      "Columns: 111 entries, id to total_il_high_credit_limit\n",
      "dtypes: float64(74), int64(13), object(24)\n",
      "memory usage: 33.6+ MB\n"
     ]
    }
   ],
   "source": [
    "loan_df.info()"
   ]
  },
  {
   "cell_type": "code",
   "execution_count": 8,
   "metadata": {},
   "outputs": [
    {
     "name": "stdout",
     "output_type": "stream",
     "text": [
      "Observed data types:\n"
     ]
    },
    {
     "data": {
      "text/plain": [
       "float64    74\n",
       "object     24\n",
       "int64      13\n",
       "dtype: int64"
      ]
     },
     "execution_count": 8,
     "metadata": {},
     "output_type": "execute_result"
    }
   ],
   "source": [
    "print(\"Observed data types:\")\n",
    "loan_df.dtypes.value_counts()"
   ]
  },
  {
   "cell_type": "code",
   "execution_count": 9,
   "metadata": {},
   "outputs": [
    {
     "name": "stdout",
     "output_type": "stream",
     "text": [
      "Initial Observations:\n",
      "# of Category columns: 24\n",
      "# of Continuous columns: 87\n"
     ]
    }
   ],
   "source": [
    "cat_cols = loan_df.dtypes[loan_df.dtypes == \"object\"].index\n",
    "continuous_col = loan_df.dtypes[loan_df.dtypes != \"object\"].index\n",
    "\n",
    "print(f\"Initial Observations:\")\n",
    "print(f\"# of Category columns: {len(cat_cols)}\")\n",
    "print(f\"# of Continuous columns: {len(continuous_col)}\")"
   ]
  },
  {
   "cell_type": "markdown",
   "metadata": {},
   "source": [
    "## Data Cleaning"
   ]
  },
  {
   "cell_type": "markdown",
   "metadata": {},
   "source": [
    "### Drop id columns"
   ]
  },
  {
   "cell_type": "code",
   "execution_count": 10,
   "metadata": {},
   "outputs": [
    {
     "data": {
      "text/plain": [
       "(39717, 109)"
      ]
     },
     "execution_count": 10,
     "metadata": {},
     "output_type": "execute_result"
    }
   ],
   "source": [
    "id_cols = [\"id\", \"member_id\"]\n",
    "loan_df.drop(id_cols,axis=1, inplace=True)\n",
    "loan_df.shape"
   ]
  },
  {
   "cell_type": "markdown",
   "metadata": {},
   "source": [
    "### Drop columns with >40% null values"
   ]
  },
  {
   "cell_type": "code",
   "execution_count": 11,
   "metadata": {},
   "outputs": [
    {
     "name": "stdout",
     "output_type": "stream",
     "text": [
      "57 columns will be dropped\n",
      "Index(['mths_since_last_delinq', 'mths_since_last_record', 'next_pymnt_d',\n",
      "       'mths_since_last_major_derog', 'annual_inc_joint', 'dti_joint',\n",
      "       'verification_status_joint', 'tot_coll_amt', 'tot_cur_bal',\n",
      "       'open_acc_6m', 'open_il_6m', 'open_il_12m', 'open_il_24m',\n",
      "       'mths_since_rcnt_il', 'total_bal_il', 'il_util', 'open_rv_12m',\n",
      "       'open_rv_24m', 'max_bal_bc', 'all_util', 'total_rev_hi_lim', 'inq_fi',\n",
      "       'total_cu_tl', 'inq_last_12m', 'acc_open_past_24mths', 'avg_cur_bal',\n",
      "       'bc_open_to_buy', 'bc_util', 'mo_sin_old_il_acct',\n",
      "       'mo_sin_old_rev_tl_op', 'mo_sin_rcnt_rev_tl_op', 'mo_sin_rcnt_tl',\n",
      "       'mort_acc', 'mths_since_recent_bc', 'mths_since_recent_bc_dlq',\n",
      "       'mths_since_recent_inq', 'mths_since_recent_revol_delinq',\n",
      "       'num_accts_ever_120_pd', 'num_actv_bc_tl', 'num_actv_rev_tl',\n",
      "       'num_bc_sats', 'num_bc_tl', 'num_il_tl', 'num_op_rev_tl',\n",
      "       'num_rev_accts', 'num_rev_tl_bal_gt_0', 'num_sats', 'num_tl_120dpd_2m',\n",
      "       'num_tl_30dpd', 'num_tl_90g_dpd_24m', 'num_tl_op_past_12m',\n",
      "       'pct_tl_nvr_dlq', 'percent_bc_gt_75', 'tot_hi_cred_lim',\n",
      "       'total_bal_ex_mort', 'total_bc_limit', 'total_il_high_credit_limit'],\n",
      "      dtype='object')\n",
      "Shape:(39717, 52)\n"
     ]
    }
   ],
   "source": [
    "ms_values = round(loan_df.isnull().sum() / loan_df.shape[0] * 100)\n",
    "drop_cols = ms_values[ms_values > 40].index\n",
    "\n",
    "print(f\"{len(drop_cols)} columns will be dropped\")\n",
    "print(drop_cols)\n",
    "\n",
    "loan_df.drop(drop_cols,axis=1, inplace=True)\n",
    "print(f\"Shape:{loan_df.shape}\")"
   ]
  },
  {
   "cell_type": "markdown",
   "metadata": {},
   "source": [
    "### Drop Rows with min 1 null value"
   ]
  },
  {
   "cell_type": "code",
   "execution_count": 12,
   "metadata": {},
   "outputs": [
    {
     "name": "stdout",
     "output_type": "stream",
     "text": [
      "# of rows to be dropped: 15311\n"
     ]
    }
   ],
   "source": [
    "drop_rows = loan_df[loan_df.isna().sum(axis=1) > 0].index\n",
    "print(f\"# of rows to be dropped: {len(drop_rows)}\")"
   ]
  },
  {
   "cell_type": "code",
   "execution_count": 13,
   "metadata": {},
   "outputs": [
    {
     "data": {
      "text/plain": [
       "(24406, 52)"
      ]
     },
     "execution_count": 13,
     "metadata": {},
     "output_type": "execute_result"
    }
   ],
   "source": [
    "loan_df = loan_df[loan_df.isna().sum(axis=1) == 0]\n",
    "loan_df.shape"
   ]
  },
  {
   "cell_type": "markdown",
   "metadata": {},
   "source": [
    "## Data Manipulation"
   ]
  },
  {
   "cell_type": "markdown",
   "metadata": {},
   "source": [
    "### Category Columns"
   ]
  },
  {
   "cell_type": "code",
   "execution_count": 14,
   "metadata": {},
   "outputs": [
    {
     "data": {
      "text/plain": [
       "Index(['term', 'int_rate', 'grade', 'sub_grade', 'emp_title', 'emp_length',\n",
       "       'home_ownership', 'verification_status', 'issue_d', 'loan_status',\n",
       "       'pymnt_plan', 'url', 'desc', 'purpose', 'title', 'zip_code',\n",
       "       'addr_state', 'earliest_cr_line', 'revol_util', 'initial_list_status',\n",
       "       'last_pymnt_d', 'next_pymnt_d', 'last_credit_pull_d',\n",
       "       'application_type'],\n",
       "      dtype='object')"
      ]
     },
     "execution_count": 14,
     "metadata": {},
     "output_type": "execute_result"
    }
   ],
   "source": [
    "cat_cols"
   ]
  },
  {
   "cell_type": "markdown",
   "metadata": {},
   "source": [
    "#### Using value_counts(), find & drop the columns that have only one unique value"
   ]
  },
  {
   "cell_type": "code",
   "execution_count": 15,
   "metadata": {},
   "outputs": [],
   "source": [
    "drop_cols = [\"pymnt_plan\",\"initial_list_status\",\"application_type\"]\n",
    "loan_df.drop(drop_cols,axis=1, inplace=True)"
   ]
  },
  {
   "cell_type": "markdown",
   "metadata": {},
   "source": [
    "#### Using dtypes & value_counts(), find & update columns that wrongly classified"
   ]
  },
  {
   "cell_type": "code",
   "execution_count": 16,
   "metadata": {},
   "outputs": [
    {
     "data": {
      "text/plain": [
       " 36 months    17844\n",
       " 60 months     6562\n",
       "Name: term, dtype: int64"
      ]
     },
     "execution_count": 16,
     "metadata": {},
     "output_type": "execute_result"
    }
   ],
   "source": [
    "loan_df.term.value_counts()"
   ]
  },
  {
   "cell_type": "code",
   "execution_count": 17,
   "metadata": {},
   "outputs": [],
   "source": [
    "loan_df['term'] = loan_df.term.apply(lambda x: int(x[1:3]))"
   ]
  },
  {
   "cell_type": "code",
   "execution_count": 18,
   "metadata": {},
   "outputs": [],
   "source": [
    "loan_df[\"int_rate\"] = loan_df['int_rate'].apply(lambda x: float(x[:-1]))"
   ]
  },
  {
   "cell_type": "code",
   "execution_count": 19,
   "metadata": {},
   "outputs": [
    {
     "data": {
      "text/plain": [
       "10+ years    5382\n",
       "2 years      2939\n",
       "< 1 year     2797\n",
       "3 years      2648\n",
       "1 year       2202\n",
       "4 years      2162\n",
       "5 years      2060\n",
       "6 years      1362\n",
       "7 years      1129\n",
       "8 years       918\n",
       "9 years       807\n",
       "Name: emp_length, dtype: int64"
      ]
     },
     "execution_count": 19,
     "metadata": {},
     "output_type": "execute_result"
    }
   ],
   "source": [
    "loan_df[\"emp_length\"].value_counts()"
   ]
  },
  {
   "cell_type": "code",
   "execution_count": 20,
   "metadata": {},
   "outputs": [],
   "source": [
    "## Since we dont have the data to differentiate emp_length above 10 years, lets consider them together\n",
    "\n",
    "loan_df[\"emp_length\"] = loan_df[\"emp_length\"].apply(lambda x: 10 if x == \"10+ years\" \n",
    "                                            else 1 if x == \"< 1 year\"\n",
    "                                            else int(x[0]) )"
   ]
  },
  {
   "cell_type": "code",
   "execution_count": 21,
   "metadata": {},
   "outputs": [],
   "source": [
    "loan_df[\"revol_util\"]= loan_df[\"revol_util\"].apply(lambda x: float(x[:-1]))"
   ]
  },
  {
   "cell_type": "code",
   "execution_count": 22,
   "metadata": {},
   "outputs": [],
   "source": [
    "# to-do\n",
    "# title zip_code"
   ]
  },
  {
   "cell_type": "markdown",
   "metadata": {},
   "source": [
    "### Continuous Columns"
   ]
  },
  {
   "cell_type": "code",
   "execution_count": 23,
   "metadata": {},
   "outputs": [
    {
     "data": {
      "text/plain": [
       "Index(['id', 'member_id', 'loan_amnt', 'funded_amnt', 'funded_amnt_inv',\n",
       "       'installment', 'annual_inc', 'dti', 'delinq_2yrs', 'inq_last_6mths',\n",
       "       'mths_since_last_delinq', 'mths_since_last_record', 'open_acc',\n",
       "       'pub_rec', 'revol_bal', 'total_acc', 'out_prncp', 'out_prncp_inv',\n",
       "       'total_pymnt', 'total_pymnt_inv', 'total_rec_prncp', 'total_rec_int',\n",
       "       'total_rec_late_fee', 'recoveries', 'collection_recovery_fee',\n",
       "       'last_pymnt_amnt', 'collections_12_mths_ex_med',\n",
       "       'mths_since_last_major_derog', 'policy_code', 'annual_inc_joint',\n",
       "       'dti_joint', 'verification_status_joint', 'acc_now_delinq',\n",
       "       'tot_coll_amt', 'tot_cur_bal', 'open_acc_6m', 'open_il_6m',\n",
       "       'open_il_12m', 'open_il_24m', 'mths_since_rcnt_il', 'total_bal_il',\n",
       "       'il_util', 'open_rv_12m', 'open_rv_24m', 'max_bal_bc', 'all_util',\n",
       "       'total_rev_hi_lim', 'inq_fi', 'total_cu_tl', 'inq_last_12m',\n",
       "       'acc_open_past_24mths', 'avg_cur_bal', 'bc_open_to_buy', 'bc_util',\n",
       "       'chargeoff_within_12_mths', 'delinq_amnt', 'mo_sin_old_il_acct',\n",
       "       'mo_sin_old_rev_tl_op', 'mo_sin_rcnt_rev_tl_op', 'mo_sin_rcnt_tl',\n",
       "       'mort_acc', 'mths_since_recent_bc', 'mths_since_recent_bc_dlq',\n",
       "       'mths_since_recent_inq', 'mths_since_recent_revol_delinq',\n",
       "       'num_accts_ever_120_pd', 'num_actv_bc_tl', 'num_actv_rev_tl',\n",
       "       'num_bc_sats', 'num_bc_tl', 'num_il_tl', 'num_op_rev_tl',\n",
       "       'num_rev_accts', 'num_rev_tl_bal_gt_0', 'num_sats', 'num_tl_120dpd_2m',\n",
       "       'num_tl_30dpd', 'num_tl_90g_dpd_24m', 'num_tl_op_past_12m',\n",
       "       'pct_tl_nvr_dlq', 'percent_bc_gt_75', 'pub_rec_bankruptcies',\n",
       "       'tax_liens', 'tot_hi_cred_lim', 'total_bal_ex_mort', 'total_bc_limit',\n",
       "       'total_il_high_credit_limit'],\n",
       "      dtype='object')"
      ]
     },
     "execution_count": 23,
     "metadata": {},
     "output_type": "execute_result"
    }
   ],
   "source": [
    "continuous_col"
   ]
  },
  {
   "cell_type": "markdown",
   "metadata": {},
   "source": [
    "#### Using value_counts(), find & drop the columns that have only one unique value"
   ]
  },
  {
   "cell_type": "code",
   "execution_count": 24,
   "metadata": {},
   "outputs": [],
   "source": [
    "drop_cols = [\"chargeoff_within_12_mths\", \"delinq_amnt\" ,\"tax_liens\" ,\n",
    "        \"collections_12_mths_ex_med\",\"policy_code\" ,\"acc_now_delinq\"]\n",
    "loan_df.drop(drop_cols,axis=1, inplace=True)"
   ]
  },
  {
   "cell_type": "markdown",
   "metadata": {},
   "source": [
    "### Date columns : last_pymnt_d, last_credit_pull_d, issue_d earliest_cr_line"
   ]
  },
  {
   "cell_type": "code",
   "execution_count": 25,
   "metadata": {},
   "outputs": [],
   "source": [
    "fmt = \"%b-%y\"\n",
    "loan_df[\"last_pymnt_d\"] = pd.to_datetime(loan_df[\"last_pymnt_d\"],format=fmt)"
   ]
  },
  {
   "cell_type": "code",
   "execution_count": 26,
   "metadata": {},
   "outputs": [],
   "source": [
    "fmt = \"%b-%y\"\n",
    "loan_df[\"last_credit_pull_d\"] = pd.to_datetime(loan_df[\"last_credit_pull_d\"],format=fmt)"
   ]
  },
  {
   "cell_type": "code",
   "execution_count": 27,
   "metadata": {},
   "outputs": [],
   "source": [
    "fmt = \"%b-%y\"\n",
    "loan_df[\"issue_d\"] = pd.to_datetime(loan_df[\"issue_d\"],format=fmt)"
   ]
  },
  {
   "cell_type": "code",
   "execution_count": 28,
   "metadata": {},
   "outputs": [],
   "source": [
    "fmt = \"%b-%y\"\n",
    "loan_df[\"earliest_cr_line\"] = pd.to_datetime(loan_df[\"earliest_cr_line\"],format=fmt)"
   ]
  },
  {
   "cell_type": "markdown",
   "metadata": {},
   "source": [
    "### Outlier analysis"
   ]
  },
  {
   "cell_type": "code",
   "execution_count": 29,
   "metadata": {},
   "outputs": [],
   "source": [
    "## annual_inc seems to have outiers"
   ]
  },
  {
   "cell_type": "markdown",
   "metadata": {},
   "source": [
    "### Final Dataset after Manipulation"
   ]
  },
  {
   "cell_type": "code",
   "execution_count": 30,
   "metadata": {},
   "outputs": [
    {
     "name": "stdout",
     "output_type": "stream",
     "text": [
      "<class 'pandas.core.frame.DataFrame'>\n",
      "Int64Index: 24406 entries, 1 to 39623\n",
      "Data columns (total 43 columns):\n",
      " #   Column                   Non-Null Count  Dtype         \n",
      "---  ------                   --------------  -----         \n",
      " 0   loan_amnt                24406 non-null  int64         \n",
      " 1   funded_amnt              24406 non-null  int64         \n",
      " 2   funded_amnt_inv          24406 non-null  float64       \n",
      " 3   term                     24406 non-null  int64         \n",
      " 4   int_rate                 24406 non-null  float64       \n",
      " 5   installment              24406 non-null  float64       \n",
      " 6   grade                    24406 non-null  object        \n",
      " 7   sub_grade                24406 non-null  object        \n",
      " 8   emp_title                24406 non-null  object        \n",
      " 9   emp_length               24406 non-null  int64         \n",
      " 10  home_ownership           24406 non-null  object        \n",
      " 11  annual_inc               24406 non-null  float64       \n",
      " 12  verification_status      24406 non-null  object        \n",
      " 13  issue_d                  24406 non-null  datetime64[ns]\n",
      " 14  loan_status              24406 non-null  object        \n",
      " 15  url                      24406 non-null  object        \n",
      " 16  desc                     24406 non-null  object        \n",
      " 17  purpose                  24406 non-null  object        \n",
      " 18  title                    24406 non-null  object        \n",
      " 19  zip_code                 24406 non-null  object        \n",
      " 20  addr_state               24406 non-null  object        \n",
      " 21  dti                      24406 non-null  float64       \n",
      " 22  delinq_2yrs              24406 non-null  int64         \n",
      " 23  earliest_cr_line         24406 non-null  datetime64[ns]\n",
      " 24  inq_last_6mths           24406 non-null  int64         \n",
      " 25  open_acc                 24406 non-null  int64         \n",
      " 26  pub_rec                  24406 non-null  int64         \n",
      " 27  revol_bal                24406 non-null  int64         \n",
      " 28  revol_util               24406 non-null  float64       \n",
      " 29  total_acc                24406 non-null  int64         \n",
      " 30  out_prncp                24406 non-null  float64       \n",
      " 31  out_prncp_inv            24406 non-null  float64       \n",
      " 32  total_pymnt              24406 non-null  float64       \n",
      " 33  total_pymnt_inv          24406 non-null  float64       \n",
      " 34  total_rec_prncp          24406 non-null  float64       \n",
      " 35  total_rec_int            24406 non-null  float64       \n",
      " 36  total_rec_late_fee       24406 non-null  float64       \n",
      " 37  recoveries               24406 non-null  float64       \n",
      " 38  collection_recovery_fee  24406 non-null  float64       \n",
      " 39  last_pymnt_d             24406 non-null  datetime64[ns]\n",
      " 40  last_pymnt_amnt          24406 non-null  float64       \n",
      " 41  last_credit_pull_d       24406 non-null  datetime64[ns]\n",
      " 42  pub_rec_bankruptcies     24406 non-null  float64       \n",
      "dtypes: datetime64[ns](4), float64(17), int64(10), object(12)\n",
      "memory usage: 8.2+ MB\n"
     ]
    }
   ],
   "source": [
    "loan_df.info()"
   ]
  },
  {
   "cell_type": "code",
   "execution_count": 31,
   "metadata": {},
   "outputs": [
    {
     "name": "stdout",
     "output_type": "stream",
     "text": [
      "Shape: (24406, 43)\n",
      "# of Category columns: 12\n",
      "# of Continuous columns: 27\n",
      "# of Date Columns: 4\n"
     ]
    }
   ],
   "source": [
    "print(f\"Shape: {loan_df.shape}\")\n",
    "\n",
    "cat_cols = loan_df.dtypes[loan_df.dtypes == \"object\"].index\n",
    "continuous_cols = loan_df.dtypes[(loan_df.dtypes == \"int64\") | (loan_df.dtypes == \"float64\")].index\n",
    "date_cols = loan_df.dtypes[loan_df.dtypes == \"datetime64[ns]\"].index\n",
    "\n",
    "print(f\"# of Category columns: {len(cat_cols)}\")\n",
    "print(f\"# of Continuous columns: {len(continuous_cols)}\")\n",
    "print(f\"# of Date Columns: {len(date_cols)}\")"
   ]
  },
  {
   "cell_type": "markdown",
   "metadata": {},
   "source": [
    "## Data Analysis"
   ]
  },
  {
   "cell_type": "markdown",
   "metadata": {},
   "source": [
    "### Univariate Analysis & Segmented Univariate Analysis : identify at least the 5 important driver variables (i.e. variables which are strong indicators of default)."
   ]
  },
  {
   "cell_type": "markdown",
   "metadata": {},
   "source": [
    "#### Univariate Analysis"
   ]
  },
  {
   "cell_type": "markdown",
   "metadata": {},
   "source": [
    "#### Segmented Univariate Analysis"
   ]
  },
  {
   "cell_type": "code",
   "execution_count": 32,
   "metadata": {},
   "outputs": [],
   "source": [
    "grouped_by_loan_status = loan_df.groupby(by=\"loan_status\")"
   ]
  },
  {
   "cell_type": "code",
   "execution_count": 33,
   "metadata": {},
   "outputs": [
    {
     "data": {
      "text/html": [
       "<div>\n",
       "<style scoped>\n",
       "    .dataframe tbody tr th:only-of-type {\n",
       "        vertical-align: middle;\n",
       "    }\n",
       "\n",
       "    .dataframe tbody tr th {\n",
       "        vertical-align: top;\n",
       "    }\n",
       "\n",
       "    .dataframe thead th {\n",
       "        text-align: right;\n",
       "    }\n",
       "</style>\n",
       "<table border=\"1\" class=\"dataframe\">\n",
       "  <thead>\n",
       "    <tr style=\"text-align: right;\">\n",
       "      <th></th>\n",
       "      <th>loan_amnt</th>\n",
       "      <th>funded_amnt</th>\n",
       "      <th>funded_amnt_inv</th>\n",
       "      <th>term</th>\n",
       "      <th>int_rate</th>\n",
       "      <th>installment</th>\n",
       "      <th>emp_length</th>\n",
       "      <th>annual_inc</th>\n",
       "      <th>dti</th>\n",
       "      <th>delinq_2yrs</th>\n",
       "      <th>inq_last_6mths</th>\n",
       "      <th>open_acc</th>\n",
       "      <th>pub_rec</th>\n",
       "      <th>revol_bal</th>\n",
       "      <th>revol_util</th>\n",
       "      <th>total_acc</th>\n",
       "      <th>out_prncp</th>\n",
       "      <th>out_prncp_inv</th>\n",
       "      <th>total_pymnt</th>\n",
       "      <th>total_pymnt_inv</th>\n",
       "      <th>total_rec_prncp</th>\n",
       "      <th>total_rec_int</th>\n",
       "      <th>total_rec_late_fee</th>\n",
       "      <th>recoveries</th>\n",
       "      <th>collection_recovery_fee</th>\n",
       "      <th>last_pymnt_amnt</th>\n",
       "      <th>pub_rec_bankruptcies</th>\n",
       "    </tr>\n",
       "    <tr>\n",
       "      <th>loan_status</th>\n",
       "      <th></th>\n",
       "      <th></th>\n",
       "      <th></th>\n",
       "      <th></th>\n",
       "      <th></th>\n",
       "      <th></th>\n",
       "      <th></th>\n",
       "      <th></th>\n",
       "      <th></th>\n",
       "      <th></th>\n",
       "      <th></th>\n",
       "      <th></th>\n",
       "      <th></th>\n",
       "      <th></th>\n",
       "      <th></th>\n",
       "      <th></th>\n",
       "      <th></th>\n",
       "      <th></th>\n",
       "      <th></th>\n",
       "      <th></th>\n",
       "      <th></th>\n",
       "      <th></th>\n",
       "      <th></th>\n",
       "      <th></th>\n",
       "      <th></th>\n",
       "      <th></th>\n",
       "      <th></th>\n",
       "    </tr>\n",
       "  </thead>\n",
       "  <tbody>\n",
       "    <tr>\n",
       "      <th>Charged Off</th>\n",
       "      <td>12788.423978</td>\n",
       "      <td>12381.430288</td>\n",
       "      <td>11472.953405</td>\n",
       "      <td>46.622596</td>\n",
       "      <td>13.927332</td>\n",
       "      <td>353.269195</td>\n",
       "      <td>5.208233</td>\n",
       "      <td>63528.798723</td>\n",
       "      <td>14.191547</td>\n",
       "      <td>0.147236</td>\n",
       "      <td>1.063702</td>\n",
       "      <td>9.474760</td>\n",
       "      <td>0.082933</td>\n",
       "      <td>14138.293870</td>\n",
       "      <td>55.601487</td>\n",
       "      <td>22.016526</td>\n",
       "      <td>0.000000</td>\n",
       "      <td>0.00000</td>\n",
       "      <td>7207.862177</td>\n",
       "      <td>6735.506016</td>\n",
       "      <td>4178.293807</td>\n",
       "      <td>2323.780108</td>\n",
       "      <td>4.582418</td>\n",
       "      <td>701.205783</td>\n",
       "      <td>95.145733</td>\n",
       "      <td>348.237752</td>\n",
       "      <td>0.064002</td>\n",
       "    </tr>\n",
       "    <tr>\n",
       "      <th>Current</th>\n",
       "      <td>17591.568483</td>\n",
       "      <td>17025.441826</td>\n",
       "      <td>16832.051122</td>\n",
       "      <td>60.000000</td>\n",
       "      <td>15.058895</td>\n",
       "      <td>409.057261</td>\n",
       "      <td>6.125184</td>\n",
       "      <td>77067.736907</td>\n",
       "      <td>14.932725</td>\n",
       "      <td>0.150221</td>\n",
       "      <td>0.773196</td>\n",
       "      <td>9.983800</td>\n",
       "      <td>0.042710</td>\n",
       "      <td>16822.611193</td>\n",
       "      <td>54.512828</td>\n",
       "      <td>23.594993</td>\n",
       "      <td>1849.965331</td>\n",
       "      <td>1840.13863</td>\n",
       "      <td>22597.434890</td>\n",
       "      <td>22288.691105</td>\n",
       "      <td>15175.476834</td>\n",
       "      <td>7420.810898</td>\n",
       "      <td>1.147190</td>\n",
       "      <td>0.000000</td>\n",
       "      <td>0.000000</td>\n",
       "      <td>411.050574</td>\n",
       "      <td>0.032401</td>\n",
       "    </tr>\n",
       "    <tr>\n",
       "      <th>Fully Paid</th>\n",
       "      <td>11243.241090</td>\n",
       "      <td>10962.030001</td>\n",
       "      <td>10440.518991</td>\n",
       "      <td>41.188490</td>\n",
       "      <td>11.692243</td>\n",
       "      <td>331.030237</td>\n",
       "      <td>4.940389</td>\n",
       "      <td>70032.077630</td>\n",
       "      <td>13.305682</td>\n",
       "      <td>0.140546</td>\n",
       "      <td>0.850336</td>\n",
       "      <td>9.383303</td>\n",
       "      <td>0.050199</td>\n",
       "      <td>13481.556694</td>\n",
       "      <td>47.789902</td>\n",
       "      <td>22.354282</td>\n",
       "      <td>0.000000</td>\n",
       "      <td>0.00000</td>\n",
       "      <td>13150.183713</td>\n",
       "      <td>12507.604938</td>\n",
       "      <td>10962.025991</td>\n",
       "      <td>2187.270820</td>\n",
       "      <td>0.887038</td>\n",
       "      <td>0.000000</td>\n",
       "      <td>0.000000</td>\n",
       "      <td>3249.902065</td>\n",
       "      <td>0.037845</td>\n",
       "    </tr>\n",
       "  </tbody>\n",
       "</table>\n",
       "</div>"
      ],
      "text/plain": [
       "                loan_amnt   funded_amnt  funded_amnt_inv       term  \\\n",
       "loan_status                                                           \n",
       "Charged Off  12788.423978  12381.430288     11472.953405  46.622596   \n",
       "Current      17591.568483  17025.441826     16832.051122  60.000000   \n",
       "Fully Paid   11243.241090  10962.030001     10440.518991  41.188490   \n",
       "\n",
       "              int_rate  installment  emp_length    annual_inc        dti  \\\n",
       "loan_status                                                                \n",
       "Charged Off  13.927332   353.269195    5.208233  63528.798723  14.191547   \n",
       "Current      15.058895   409.057261    6.125184  77067.736907  14.932725   \n",
       "Fully Paid   11.692243   331.030237    4.940389  70032.077630  13.305682   \n",
       "\n",
       "             delinq_2yrs  inq_last_6mths  open_acc   pub_rec     revol_bal  \\\n",
       "loan_status                                                                  \n",
       "Charged Off     0.147236        1.063702  9.474760  0.082933  14138.293870   \n",
       "Current         0.150221        0.773196  9.983800  0.042710  16822.611193   \n",
       "Fully Paid      0.140546        0.850336  9.383303  0.050199  13481.556694   \n",
       "\n",
       "             revol_util  total_acc    out_prncp  out_prncp_inv   total_pymnt  \\\n",
       "loan_status                                                                    \n",
       "Charged Off   55.601487  22.016526     0.000000        0.00000   7207.862177   \n",
       "Current       54.512828  23.594993  1849.965331     1840.13863  22597.434890   \n",
       "Fully Paid    47.789902  22.354282     0.000000        0.00000  13150.183713   \n",
       "\n",
       "             total_pymnt_inv  total_rec_prncp  total_rec_int  \\\n",
       "loan_status                                                    \n",
       "Charged Off      6735.506016      4178.293807    2323.780108   \n",
       "Current         22288.691105     15175.476834    7420.810898   \n",
       "Fully Paid      12507.604938     10962.025991    2187.270820   \n",
       "\n",
       "             total_rec_late_fee  recoveries  collection_recovery_fee  \\\n",
       "loan_status                                                            \n",
       "Charged Off            4.582418  701.205783                95.145733   \n",
       "Current                1.147190    0.000000                 0.000000   \n",
       "Fully Paid             0.887038    0.000000                 0.000000   \n",
       "\n",
       "             last_pymnt_amnt  pub_rec_bankruptcies  \n",
       "loan_status                                         \n",
       "Charged Off       348.237752              0.064002  \n",
       "Current           411.050574              0.032401  \n",
       "Fully Paid       3249.902065              0.037845  "
      ]
     },
     "execution_count": 33,
     "metadata": {},
     "output_type": "execute_result"
    }
   ],
   "source": [
    "grouped_by_loan_status.mean()"
   ]
  },
  {
   "cell_type": "code",
   "execution_count": 34,
   "metadata": {},
   "outputs": [
    {
     "data": {
      "text/html": [
       "<div>\n",
       "<style scoped>\n",
       "    .dataframe tbody tr th:only-of-type {\n",
       "        vertical-align: middle;\n",
       "    }\n",
       "\n",
       "    .dataframe tbody tr th {\n",
       "        vertical-align: top;\n",
       "    }\n",
       "\n",
       "    .dataframe thead th {\n",
       "        text-align: right;\n",
       "    }\n",
       "</style>\n",
       "<table border=\"1\" class=\"dataframe\">\n",
       "  <thead>\n",
       "    <tr style=\"text-align: right;\">\n",
       "      <th></th>\n",
       "      <th>loan_amnt</th>\n",
       "      <th>funded_amnt</th>\n",
       "      <th>funded_amnt_inv</th>\n",
       "      <th>term</th>\n",
       "      <th>int_rate</th>\n",
       "      <th>installment</th>\n",
       "      <th>emp_length</th>\n",
       "      <th>annual_inc</th>\n",
       "      <th>dti</th>\n",
       "      <th>delinq_2yrs</th>\n",
       "      <th>inq_last_6mths</th>\n",
       "      <th>open_acc</th>\n",
       "      <th>pub_rec</th>\n",
       "      <th>revol_bal</th>\n",
       "      <th>revol_util</th>\n",
       "      <th>total_acc</th>\n",
       "      <th>out_prncp</th>\n",
       "      <th>out_prncp_inv</th>\n",
       "      <th>total_pymnt</th>\n",
       "      <th>total_pymnt_inv</th>\n",
       "      <th>total_rec_prncp</th>\n",
       "      <th>total_rec_int</th>\n",
       "      <th>total_rec_late_fee</th>\n",
       "      <th>recoveries</th>\n",
       "      <th>collection_recovery_fee</th>\n",
       "      <th>last_pymnt_amnt</th>\n",
       "      <th>pub_rec_bankruptcies</th>\n",
       "    </tr>\n",
       "    <tr>\n",
       "      <th>loan_status</th>\n",
       "      <th></th>\n",
       "      <th></th>\n",
       "      <th></th>\n",
       "      <th></th>\n",
       "      <th></th>\n",
       "      <th></th>\n",
       "      <th></th>\n",
       "      <th></th>\n",
       "      <th></th>\n",
       "      <th></th>\n",
       "      <th></th>\n",
       "      <th></th>\n",
       "      <th></th>\n",
       "      <th></th>\n",
       "      <th></th>\n",
       "      <th></th>\n",
       "      <th></th>\n",
       "      <th></th>\n",
       "      <th></th>\n",
       "      <th></th>\n",
       "      <th></th>\n",
       "      <th></th>\n",
       "      <th></th>\n",
       "      <th></th>\n",
       "      <th></th>\n",
       "      <th></th>\n",
       "      <th></th>\n",
       "    </tr>\n",
       "  </thead>\n",
       "  <tbody>\n",
       "    <tr>\n",
       "      <th>Charged Off</th>\n",
       "      <td>11200.0</td>\n",
       "      <td>10800.0</td>\n",
       "      <td>10000.000000</td>\n",
       "      <td>36.0</td>\n",
       "      <td>13.67</td>\n",
       "      <td>315.49</td>\n",
       "      <td>5.0</td>\n",
       "      <td>54600.0</td>\n",
       "      <td>14.54</td>\n",
       "      <td>0.0</td>\n",
       "      <td>1.0</td>\n",
       "      <td>9.0</td>\n",
       "      <td>0.0</td>\n",
       "      <td>9924.5</td>\n",
       "      <td>58.2</td>\n",
       "      <td>20.0</td>\n",
       "      <td>0.00</td>\n",
       "      <td>0.00</td>\n",
       "      <td>5214.2650</td>\n",
       "      <td>4776.645</td>\n",
       "      <td>2911.09</td>\n",
       "      <td>1435.67</td>\n",
       "      <td>0.0</td>\n",
       "      <td>173.1</td>\n",
       "      <td>2.78415</td>\n",
       "      <td>259.65</td>\n",
       "      <td>0.0</td>\n",
       "    </tr>\n",
       "    <tr>\n",
       "      <th>Current</th>\n",
       "      <td>16000.0</td>\n",
       "      <td>16000.0</td>\n",
       "      <td>15750.000000</td>\n",
       "      <td>60.0</td>\n",
       "      <td>14.65</td>\n",
       "      <td>376.16</td>\n",
       "      <td>6.0</td>\n",
       "      <td>66000.0</td>\n",
       "      <td>15.36</td>\n",
       "      <td>0.0</td>\n",
       "      <td>0.0</td>\n",
       "      <td>9.0</td>\n",
       "      <td>0.0</td>\n",
       "      <td>13065.0</td>\n",
       "      <td>56.7</td>\n",
       "      <td>22.0</td>\n",
       "      <td>1608.53</td>\n",
       "      <td>1605.98</td>\n",
       "      <td>20731.9100</td>\n",
       "      <td>20553.140</td>\n",
       "      <td>13943.15</td>\n",
       "      <td>6721.76</td>\n",
       "      <td>0.0</td>\n",
       "      <td>0.0</td>\n",
       "      <td>0.00000</td>\n",
       "      <td>377.49</td>\n",
       "      <td>0.0</td>\n",
       "    </tr>\n",
       "    <tr>\n",
       "      <th>Fully Paid</th>\n",
       "      <td>10000.0</td>\n",
       "      <td>10000.0</td>\n",
       "      <td>9113.068391</td>\n",
       "      <td>36.0</td>\n",
       "      <td>11.49</td>\n",
       "      <td>291.76</td>\n",
       "      <td>4.0</td>\n",
       "      <td>60000.0</td>\n",
       "      <td>13.41</td>\n",
       "      <td>0.0</td>\n",
       "      <td>1.0</td>\n",
       "      <td>9.0</td>\n",
       "      <td>0.0</td>\n",
       "      <td>9044.0</td>\n",
       "      <td>47.8</td>\n",
       "      <td>21.0</td>\n",
       "      <td>0.00</td>\n",
       "      <td>0.00</td>\n",
       "      <td>11132.9932</td>\n",
       "      <td>10561.780</td>\n",
       "      <td>10000.00</td>\n",
       "      <td>1398.32</td>\n",
       "      <td>0.0</td>\n",
       "      <td>0.0</td>\n",
       "      <td>0.00000</td>\n",
       "      <td>917.11</td>\n",
       "      <td>0.0</td>\n",
       "    </tr>\n",
       "  </tbody>\n",
       "</table>\n",
       "</div>"
      ],
      "text/plain": [
       "             loan_amnt  funded_amnt  funded_amnt_inv  term  int_rate  \\\n",
       "loan_status                                                            \n",
       "Charged Off    11200.0      10800.0     10000.000000  36.0     13.67   \n",
       "Current        16000.0      16000.0     15750.000000  60.0     14.65   \n",
       "Fully Paid     10000.0      10000.0      9113.068391  36.0     11.49   \n",
       "\n",
       "             installment  emp_length  annual_inc    dti  delinq_2yrs  \\\n",
       "loan_status                                                            \n",
       "Charged Off       315.49         5.0     54600.0  14.54          0.0   \n",
       "Current           376.16         6.0     66000.0  15.36          0.0   \n",
       "Fully Paid        291.76         4.0     60000.0  13.41          0.0   \n",
       "\n",
       "             inq_last_6mths  open_acc  pub_rec  revol_bal  revol_util  \\\n",
       "loan_status                                                             \n",
       "Charged Off             1.0       9.0      0.0     9924.5        58.2   \n",
       "Current                 0.0       9.0      0.0    13065.0        56.7   \n",
       "Fully Paid              1.0       9.0      0.0     9044.0        47.8   \n",
       "\n",
       "             total_acc  out_prncp  out_prncp_inv  total_pymnt  \\\n",
       "loan_status                                                     \n",
       "Charged Off       20.0       0.00           0.00    5214.2650   \n",
       "Current           22.0    1608.53        1605.98   20731.9100   \n",
       "Fully Paid        21.0       0.00           0.00   11132.9932   \n",
       "\n",
       "             total_pymnt_inv  total_rec_prncp  total_rec_int  \\\n",
       "loan_status                                                    \n",
       "Charged Off         4776.645          2911.09        1435.67   \n",
       "Current            20553.140         13943.15        6721.76   \n",
       "Fully Paid         10561.780         10000.00        1398.32   \n",
       "\n",
       "             total_rec_late_fee  recoveries  collection_recovery_fee  \\\n",
       "loan_status                                                            \n",
       "Charged Off                 0.0       173.1                  2.78415   \n",
       "Current                     0.0         0.0                  0.00000   \n",
       "Fully Paid                  0.0         0.0                  0.00000   \n",
       "\n",
       "             last_pymnt_amnt  pub_rec_bankruptcies  \n",
       "loan_status                                         \n",
       "Charged Off           259.65                   0.0  \n",
       "Current               377.49                   0.0  \n",
       "Fully Paid            917.11                   0.0  "
      ]
     },
     "execution_count": 34,
     "metadata": {},
     "output_type": "execute_result"
    }
   ],
   "source": [
    "grouped_by_loan_status.median()"
   ]
  },
  {
   "cell_type": "code",
   "execution_count": 35,
   "metadata": {},
   "outputs": [
    {
     "data": {
      "image/png": "[encoded data removed]",
      "text/plain": [
       "<Figure size 1476x576 with 1 Axes>"
      ]
     },
     "metadata": {
      "needs_background": "light"
     },
     "output_type": "display_data"
    }
   ],
   "source": [
    "col = \"loan_amnt\" \n",
    "hue = \"loan_status\"\n",
    "\n",
    "fig, ax = plt.subplots()\n",
    "fig.set_size_inches(20.5, 8, forward=True)\n",
    "ax = sns.boxplot(x=loan_df[col], y=loan_df[hue])\n",
    "plt.show()"
   ]
  },
  {
   "cell_type": "code",
   "execution_count": 36,
   "metadata": {},
   "outputs": [
    {
     "data": {
      "image/png": "[encoded data removed]",
      "text/plain": [
       "<Figure size 1476x576 with 1 Axes>"
      ]
     },
     "metadata": {
      "needs_background": "light"
     },
     "output_type": "display_data"
    }
   ],
   "source": [
    "col = \"installment\"\n",
    "hue = \"loan_status\"\n",
    "\n",
    "fig, ax = plt.subplots()\n",
    "fig.set_size_inches(20.5, 8, forward=True)\n",
    "ax = sns.boxplot(x=loan_df[col], y=loan_df[hue])\n",
    "plt.show()"
   ]
  },
  {
   "cell_type": "code",
   "execution_count": 37,
   "metadata": {},
   "outputs": [
    {
     "data": {
      "image/png": "[encoded data removed]",
      "text/plain": [
       "<Figure size 1476x576 with 1 Axes>"
      ]
     },
     "metadata": {
      "needs_background": "light"
     },
     "output_type": "display_data"
    }
   ],
   "source": [
    "col = \"emp_length\" \n",
    "hue = \"loan_status\"\n",
    "\n",
    "fig, ax = plt.subplots()\n",
    "fig.set_size_inches(20.5, 8, forward=True)\n",
    "ax = sns.boxplot(x=loan_df[col], y=loan_df[hue])\n",
    "plt.show()"
   ]
  },
  {
   "cell_type": "code",
   "execution_count": 38,
   "metadata": {},
   "outputs": [
    {
     "data": {
      "image/png": "[encoded data removed]",
      "text/plain": [
       "<Figure size 1476x576 with 1 Axes>"
      ]
     },
     "metadata": {
      "needs_background": "light"
     },
     "output_type": "display_data"
    }
   ],
   "source": [
    "# high int_rate has a significant difference\n",
    "\n",
    "col = \"int_rate\" \n",
    "hue = \"loan_status\"\n",
    "\n",
    "fig, ax = plt.subplots()\n",
    "fig.set_size_inches(20.5, 8, forward=True)\n",
    "ax = sns.boxplot(x=loan_df[col], y=loan_df[hue])\n",
    "plt.show()"
   ]
  },
  {
   "cell_type": "code",
   "execution_count": 39,
   "metadata": {},
   "outputs": [
    {
     "data": {
      "image/png": "[encoded data removed]",
      "text/plain": [
       "<Figure size 1476x576 with 1 Axes>"
      ]
     },
     "metadata": {
      "needs_background": "light"
     },
     "output_type": "display_data"
    }
   ],
   "source": [
    "col = \"annual_inc\" \n",
    "hue = \"loan_status\"\n",
    "\n",
    "fig, ax = plt.subplots()\n",
    "fig.set_size_inches(20.5, 8, forward=True)\n",
    "ax = sns.boxplot(x=loan_df[col], y=loan_df[hue])\n",
    "plt.show()"
   ]
  },
  {
   "cell_type": "markdown",
   "metadata": {},
   "source": [
    "##### Observation:\n",
    "Significant differences found in \"int_rate\", \"annual_inc\", \"loan_amnt\", \"revol_util\", \"total_rec_late_fee\""
   ]
  },
  {
   "cell_type": "code",
   "execution_count": 40,
   "metadata": {},
   "outputs": [
    {
     "data": {
      "text/html": [
       "<div>\n",
       "<style scoped>\n",
       "    .dataframe tbody tr th:only-of-type {\n",
       "        vertical-align: middle;\n",
       "    }\n",
       "\n",
       "    .dataframe tbody tr th {\n",
       "        vertical-align: top;\n",
       "    }\n",
       "\n",
       "    .dataframe thead th {\n",
       "        text-align: right;\n",
       "    }\n",
       "</style>\n",
       "<table border=\"1\" class=\"dataframe\">\n",
       "  <thead>\n",
       "    <tr style=\"text-align: right;\">\n",
       "      <th>loan_status</th>\n",
       "      <th>Charged Off</th>\n",
       "      <th>Current</th>\n",
       "      <th>Fully Paid</th>\n",
       "    </tr>\n",
       "    <tr>\n",
       "      <th>purpose</th>\n",
       "      <th></th>\n",
       "      <th></th>\n",
       "      <th></th>\n",
       "    </tr>\n",
       "  </thead>\n",
       "  <tbody>\n",
       "    <tr>\n",
       "      <th>car</th>\n",
       "      <td>0.089485</td>\n",
       "      <td>0.027964</td>\n",
       "      <td>0.882550</td>\n",
       "    </tr>\n",
       "    <tr>\n",
       "      <th>credit_card</th>\n",
       "      <td>0.102881</td>\n",
       "      <td>0.019310</td>\n",
       "      <td>0.877809</td>\n",
       "    </tr>\n",
       "    <tr>\n",
       "      <th>debt_consolidation</th>\n",
       "      <td>0.143479</td>\n",
       "      <td>0.029771</td>\n",
       "      <td>0.826751</td>\n",
       "    </tr>\n",
       "    <tr>\n",
       "      <th>educational</th>\n",
       "      <td>0.166667</td>\n",
       "      <td>0.000000</td>\n",
       "      <td>0.833333</td>\n",
       "    </tr>\n",
       "    <tr>\n",
       "      <th>home_improvement</th>\n",
       "      <td>0.110612</td>\n",
       "      <td>0.035935</td>\n",
       "      <td>0.853453</td>\n",
       "    </tr>\n",
       "    <tr>\n",
       "      <th>house</th>\n",
       "      <td>0.149020</td>\n",
       "      <td>0.031373</td>\n",
       "      <td>0.819608</td>\n",
       "    </tr>\n",
       "    <tr>\n",
       "      <th>major_purchase</th>\n",
       "      <td>0.094847</td>\n",
       "      <td>0.018671</td>\n",
       "      <td>0.886482</td>\n",
       "    </tr>\n",
       "    <tr>\n",
       "      <th>medical</th>\n",
       "      <td>0.163728</td>\n",
       "      <td>0.020151</td>\n",
       "      <td>0.816121</td>\n",
       "    </tr>\n",
       "    <tr>\n",
       "      <th>moving</th>\n",
       "      <td>0.129032</td>\n",
       "      <td>0.006452</td>\n",
       "      <td>0.864516</td>\n",
       "    </tr>\n",
       "    <tr>\n",
       "      <th>other</th>\n",
       "      <td>0.153688</td>\n",
       "      <td>0.032138</td>\n",
       "      <td>0.814174</td>\n",
       "    </tr>\n",
       "    <tr>\n",
       "      <th>renewable_energy</th>\n",
       "      <td>0.186441</td>\n",
       "      <td>0.016949</td>\n",
       "      <td>0.796610</td>\n",
       "    </tr>\n",
       "    <tr>\n",
       "      <th>small_business</th>\n",
       "      <td>0.251451</td>\n",
       "      <td>0.042553</td>\n",
       "      <td>0.705996</td>\n",
       "    </tr>\n",
       "    <tr>\n",
       "      <th>vacation</th>\n",
       "      <td>0.140625</td>\n",
       "      <td>0.015625</td>\n",
       "      <td>0.843750</td>\n",
       "    </tr>\n",
       "    <tr>\n",
       "      <th>wedding</th>\n",
       "      <td>0.105085</td>\n",
       "      <td>0.018644</td>\n",
       "      <td>0.876271</td>\n",
       "    </tr>\n",
       "  </tbody>\n",
       "</table>\n",
       "</div>"
      ],
      "text/plain": [
       "loan_status         Charged Off   Current  Fully Paid\n",
       "purpose                                              \n",
       "car                    0.089485  0.027964    0.882550\n",
       "credit_card            0.102881  0.019310    0.877809\n",
       "debt_consolidation     0.143479  0.029771    0.826751\n",
       "educational            0.166667  0.000000    0.833333\n",
       "home_improvement       0.110612  0.035935    0.853453\n",
       "house                  0.149020  0.031373    0.819608\n",
       "major_purchase         0.094847  0.018671    0.886482\n",
       "medical                0.163728  0.020151    0.816121\n",
       "moving                 0.129032  0.006452    0.864516\n",
       "other                  0.153688  0.032138    0.814174\n",
       "renewable_energy       0.186441  0.016949    0.796610\n",
       "small_business         0.251451  0.042553    0.705996\n",
       "vacation               0.140625  0.015625    0.843750\n",
       "wedding                0.105085  0.018644    0.876271"
      ]
     },
     "execution_count": 40,
     "metadata": {},
     "output_type": "execute_result"
    }
   ],
   "source": [
    "# purpose has signigicant difference\n",
    "## better results if we drop loan_status current\n",
    "pd.crosstab(loan_df[\"purpose\"], [loan_df[\"loan_status\"]], normalize=\"index\")"
   ]
  },
  {
   "cell_type": "code",
   "execution_count": 41,
   "metadata": {},
   "outputs": [
    {
     "data": {
      "text/html": [
       "<div>\n",
       "<style scoped>\n",
       "    .dataframe tbody tr th:only-of-type {\n",
       "        vertical-align: middle;\n",
       "    }\n",
       "\n",
       "    .dataframe tbody tr th {\n",
       "        vertical-align: top;\n",
       "    }\n",
       "\n",
       "    .dataframe thead th {\n",
       "        text-align: right;\n",
       "    }\n",
       "</style>\n",
       "<table border=\"1\" class=\"dataframe\">\n",
       "  <thead>\n",
       "    <tr style=\"text-align: right;\">\n",
       "      <th>home_ownership</th>\n",
       "      <th>MORTGAGE</th>\n",
       "      <th>OTHER</th>\n",
       "      <th>OWN</th>\n",
       "      <th>RENT</th>\n",
       "    </tr>\n",
       "    <tr>\n",
       "      <th>loan_status</th>\n",
       "      <th></th>\n",
       "      <th></th>\n",
       "      <th></th>\n",
       "      <th></th>\n",
       "    </tr>\n",
       "  </thead>\n",
       "  <tbody>\n",
       "    <tr>\n",
       "      <th>Charged Off</th>\n",
       "      <td>0.129922</td>\n",
       "      <td>0.191489</td>\n",
       "      <td>0.135702</td>\n",
       "      <td>0.141957</td>\n",
       "    </tr>\n",
       "    <tr>\n",
       "      <th>Current</th>\n",
       "      <td>0.036053</td>\n",
       "      <td>0.000000</td>\n",
       "      <td>0.025626</td>\n",
       "      <td>0.020766</td>\n",
       "    </tr>\n",
       "    <tr>\n",
       "      <th>Fully Paid</th>\n",
       "      <td>0.834025</td>\n",
       "      <td>0.808511</td>\n",
       "      <td>0.838672</td>\n",
       "      <td>0.837277</td>\n",
       "    </tr>\n",
       "  </tbody>\n",
       "</table>\n",
       "</div>"
      ],
      "text/plain": [
       "home_ownership  MORTGAGE     OTHER       OWN      RENT\n",
       "loan_status                                           \n",
       "Charged Off     0.129922  0.191489  0.135702  0.141957\n",
       "Current         0.036053  0.000000  0.025626  0.020766\n",
       "Fully Paid      0.834025  0.808511  0.838672  0.837277"
      ]
     },
     "execution_count": 41,
     "metadata": {},
     "output_type": "execute_result"
    }
   ],
   "source": [
    "pd.crosstab(loan_df[\"loan_status\"], [loan_df[\"home_ownership\"]], normalize=\"columns\")"
   ]
  },
  {
   "cell_type": "code",
   "execution_count": 42,
   "metadata": {},
   "outputs": [
    {
     "data": {
      "text/html": [
       "<div>\n",
       "<style scoped>\n",
       "    .dataframe tbody tr th:only-of-type {\n",
       "        vertical-align: middle;\n",
       "    }\n",
       "\n",
       "    .dataframe tbody tr th {\n",
       "        vertical-align: top;\n",
       "    }\n",
       "\n",
       "    .dataframe thead th {\n",
       "        text-align: right;\n",
       "    }\n",
       "</style>\n",
       "<table border=\"1\" class=\"dataframe\">\n",
       "  <thead>\n",
       "    <tr style=\"text-align: right;\">\n",
       "      <th>grade</th>\n",
       "      <th>A</th>\n",
       "      <th>B</th>\n",
       "      <th>C</th>\n",
       "      <th>D</th>\n",
       "      <th>E</th>\n",
       "      <th>F</th>\n",
       "      <th>G</th>\n",
       "    </tr>\n",
       "    <tr>\n",
       "      <th>loan_status</th>\n",
       "      <th></th>\n",
       "      <th></th>\n",
       "      <th></th>\n",
       "      <th></th>\n",
       "      <th></th>\n",
       "      <th></th>\n",
       "      <th></th>\n",
       "    </tr>\n",
       "  </thead>\n",
       "  <tbody>\n",
       "    <tr>\n",
       "      <th>Charged Off</th>\n",
       "      <td>0.054054</td>\n",
       "      <td>0.113667</td>\n",
       "      <td>0.156976</td>\n",
       "      <td>0.205003</td>\n",
       "      <td>0.248322</td>\n",
       "      <td>0.298003</td>\n",
       "      <td>0.307292</td>\n",
       "    </tr>\n",
       "    <tr>\n",
       "      <th>Current</th>\n",
       "      <td>0.003626</td>\n",
       "      <td>0.028011</td>\n",
       "      <td>0.031157</td>\n",
       "      <td>0.041489</td>\n",
       "      <td>0.059284</td>\n",
       "      <td>0.061444</td>\n",
       "      <td>0.057292</td>\n",
       "    </tr>\n",
       "    <tr>\n",
       "      <th>Fully Paid</th>\n",
       "      <td>0.942320</td>\n",
       "      <td>0.858322</td>\n",
       "      <td>0.811867</td>\n",
       "      <td>0.753508</td>\n",
       "      <td>0.692394</td>\n",
       "      <td>0.640553</td>\n",
       "      <td>0.635417</td>\n",
       "    </tr>\n",
       "  </tbody>\n",
       "</table>\n",
       "</div>"
      ],
      "text/plain": [
       "grade               A         B         C         D         E         F  \\\n",
       "loan_status                                                               \n",
       "Charged Off  0.054054  0.113667  0.156976  0.205003  0.248322  0.298003   \n",
       "Current      0.003626  0.028011  0.031157  0.041489  0.059284  0.061444   \n",
       "Fully Paid   0.942320  0.858322  0.811867  0.753508  0.692394  0.640553   \n",
       "\n",
       "grade               G  \n",
       "loan_status            \n",
       "Charged Off  0.307292  \n",
       "Current      0.057292  \n",
       "Fully Paid   0.635417  "
      ]
     },
     "execution_count": 42,
     "metadata": {},
     "output_type": "execute_result"
    }
   ],
   "source": [
    "# Significant finding\n",
    "pd.crosstab(loan_df[\"loan_status\"], [loan_df[\"grade\"]], normalize=\"columns\")"
   ]
  },
  {
   "cell_type": "code",
   "execution_count": 43,
   "metadata": {},
   "outputs": [
    {
     "data": {
      "text/html": [
       "<div>\n",
       "<style scoped>\n",
       "    .dataframe tbody tr th:only-of-type {\n",
       "        vertical-align: middle;\n",
       "    }\n",
       "\n",
       "    .dataframe tbody tr th {\n",
       "        vertical-align: top;\n",
       "    }\n",
       "\n",
       "    .dataframe thead th {\n",
       "        text-align: right;\n",
       "    }\n",
       "</style>\n",
       "<table border=\"1\" class=\"dataframe\">\n",
       "  <thead>\n",
       "    <tr style=\"text-align: right;\">\n",
       "      <th>loan_status</th>\n",
       "      <th>Charged Off</th>\n",
       "      <th>Current</th>\n",
       "      <th>Fully Paid</th>\n",
       "    </tr>\n",
       "    <tr>\n",
       "      <th>sub_grade</th>\n",
       "      <th></th>\n",
       "      <th></th>\n",
       "      <th></th>\n",
       "    </tr>\n",
       "  </thead>\n",
       "  <tbody>\n",
       "    <tr>\n",
       "      <th>A1</th>\n",
       "      <td>0.026801</td>\n",
       "      <td>0.000000</td>\n",
       "      <td>0.973199</td>\n",
       "    </tr>\n",
       "    <tr>\n",
       "      <th>A2</th>\n",
       "      <td>0.049826</td>\n",
       "      <td>0.000000</td>\n",
       "      <td>0.950174</td>\n",
       "    </tr>\n",
       "    <tr>\n",
       "      <th>A3</th>\n",
       "      <td>0.046642</td>\n",
       "      <td>0.000000</td>\n",
       "      <td>0.953358</td>\n",
       "    </tr>\n",
       "    <tr>\n",
       "      <th>A4</th>\n",
       "      <td>0.052866</td>\n",
       "      <td>0.004452</td>\n",
       "      <td>0.942682</td>\n",
       "    </tr>\n",
       "    <tr>\n",
       "      <th>A5</th>\n",
       "      <td>0.071305</td>\n",
       "      <td>0.008051</td>\n",
       "      <td>0.920644</td>\n",
       "    </tr>\n",
       "    <tr>\n",
       "      <th>B1</th>\n",
       "      <td>0.085343</td>\n",
       "      <td>0.013915</td>\n",
       "      <td>0.900742</td>\n",
       "    </tr>\n",
       "    <tr>\n",
       "      <th>B2</th>\n",
       "      <td>0.101059</td>\n",
       "      <td>0.026080</td>\n",
       "      <td>0.872861</td>\n",
       "    </tr>\n",
       "    <tr>\n",
       "      <th>B3</th>\n",
       "      <td>0.113931</td>\n",
       "      <td>0.029893</td>\n",
       "      <td>0.856176</td>\n",
       "    </tr>\n",
       "    <tr>\n",
       "      <th>B4</th>\n",
       "      <td>0.124060</td>\n",
       "      <td>0.032581</td>\n",
       "      <td>0.843358</td>\n",
       "    </tr>\n",
       "    <tr>\n",
       "      <th>B5</th>\n",
       "      <td>0.130536</td>\n",
       "      <td>0.032051</td>\n",
       "      <td>0.837413</td>\n",
       "    </tr>\n",
       "    <tr>\n",
       "      <th>C1</th>\n",
       "      <td>0.158921</td>\n",
       "      <td>0.032234</td>\n",
       "      <td>0.808846</td>\n",
       "    </tr>\n",
       "    <tr>\n",
       "      <th>C2</th>\n",
       "      <td>0.147179</td>\n",
       "      <td>0.039248</td>\n",
       "      <td>0.813573</td>\n",
       "    </tr>\n",
       "    <tr>\n",
       "      <th>C3</th>\n",
       "      <td>0.164426</td>\n",
       "      <td>0.031024</td>\n",
       "      <td>0.804550</td>\n",
       "    </tr>\n",
       "    <tr>\n",
       "      <th>C4</th>\n",
       "      <td>0.149292</td>\n",
       "      <td>0.021879</td>\n",
       "      <td>0.828829</td>\n",
       "    </tr>\n",
       "    <tr>\n",
       "      <th>C5</th>\n",
       "      <td>0.168022</td>\n",
       "      <td>0.025745</td>\n",
       "      <td>0.806233</td>\n",
       "    </tr>\n",
       "    <tr>\n",
       "      <th>D1</th>\n",
       "      <td>0.174688</td>\n",
       "      <td>0.000000</td>\n",
       "      <td>0.825312</td>\n",
       "    </tr>\n",
       "    <tr>\n",
       "      <th>D2</th>\n",
       "      <td>0.189737</td>\n",
       "      <td>0.047733</td>\n",
       "      <td>0.762530</td>\n",
       "    </tr>\n",
       "    <tr>\n",
       "      <th>D3</th>\n",
       "      <td>0.215084</td>\n",
       "      <td>0.050279</td>\n",
       "      <td>0.734637</td>\n",
       "    </tr>\n",
       "    <tr>\n",
       "      <th>D4</th>\n",
       "      <td>0.217600</td>\n",
       "      <td>0.056000</td>\n",
       "      <td>0.726400</td>\n",
       "    </tr>\n",
       "    <tr>\n",
       "      <th>D5</th>\n",
       "      <td>0.232342</td>\n",
       "      <td>0.046468</td>\n",
       "      <td>0.721190</td>\n",
       "    </tr>\n",
       "    <tr>\n",
       "      <th>E1</th>\n",
       "      <td>0.255717</td>\n",
       "      <td>0.039501</td>\n",
       "      <td>0.704782</td>\n",
       "    </tr>\n",
       "    <tr>\n",
       "      <th>E2</th>\n",
       "      <td>0.242500</td>\n",
       "      <td>0.067500</td>\n",
       "      <td>0.690000</td>\n",
       "    </tr>\n",
       "    <tr>\n",
       "      <th>E3</th>\n",
       "      <td>0.212707</td>\n",
       "      <td>0.058011</td>\n",
       "      <td>0.729282</td>\n",
       "    </tr>\n",
       "    <tr>\n",
       "      <th>E4</th>\n",
       "      <td>0.278746</td>\n",
       "      <td>0.073171</td>\n",
       "      <td>0.648084</td>\n",
       "    </tr>\n",
       "    <tr>\n",
       "      <th>E5</th>\n",
       "      <td>0.259690</td>\n",
       "      <td>0.069767</td>\n",
       "      <td>0.670543</td>\n",
       "    </tr>\n",
       "    <tr>\n",
       "      <th>F1</th>\n",
       "      <td>0.294393</td>\n",
       "      <td>0.051402</td>\n",
       "      <td>0.654206</td>\n",
       "    </tr>\n",
       "    <tr>\n",
       "      <th>F2</th>\n",
       "      <td>0.294872</td>\n",
       "      <td>0.070513</td>\n",
       "      <td>0.634615</td>\n",
       "    </tr>\n",
       "    <tr>\n",
       "      <th>F3</th>\n",
       "      <td>0.247788</td>\n",
       "      <td>0.053097</td>\n",
       "      <td>0.699115</td>\n",
       "    </tr>\n",
       "    <tr>\n",
       "      <th>F4</th>\n",
       "      <td>0.281250</td>\n",
       "      <td>0.104167</td>\n",
       "      <td>0.614583</td>\n",
       "    </tr>\n",
       "    <tr>\n",
       "      <th>F5</th>\n",
       "      <td>0.416667</td>\n",
       "      <td>0.027778</td>\n",
       "      <td>0.555556</td>\n",
       "    </tr>\n",
       "    <tr>\n",
       "      <th>G1</th>\n",
       "      <td>0.283333</td>\n",
       "      <td>0.100000</td>\n",
       "      <td>0.616667</td>\n",
       "    </tr>\n",
       "    <tr>\n",
       "      <th>G2</th>\n",
       "      <td>0.341463</td>\n",
       "      <td>0.024390</td>\n",
       "      <td>0.634146</td>\n",
       "    </tr>\n",
       "    <tr>\n",
       "      <th>G3</th>\n",
       "      <td>0.371429</td>\n",
       "      <td>0.085714</td>\n",
       "      <td>0.542857</td>\n",
       "    </tr>\n",
       "    <tr>\n",
       "      <th>G4</th>\n",
       "      <td>0.214286</td>\n",
       "      <td>0.023810</td>\n",
       "      <td>0.761905</td>\n",
       "    </tr>\n",
       "    <tr>\n",
       "      <th>G5</th>\n",
       "      <td>0.428571</td>\n",
       "      <td>0.000000</td>\n",
       "      <td>0.571429</td>\n",
       "    </tr>\n",
       "  </tbody>\n",
       "</table>\n",
       "</div>"
      ],
      "text/plain": [
       "loan_status  Charged Off   Current  Fully Paid\n",
       "sub_grade                                     \n",
       "A1              0.026801  0.000000    0.973199\n",
       "A2              0.049826  0.000000    0.950174\n",
       "A3              0.046642  0.000000    0.953358\n",
       "A4              0.052866  0.004452    0.942682\n",
       "A5              0.071305  0.008051    0.920644\n",
       "B1              0.085343  0.013915    0.900742\n",
       "B2              0.101059  0.026080    0.872861\n",
       "B3              0.113931  0.029893    0.856176\n",
       "B4              0.124060  0.032581    0.843358\n",
       "B5              0.130536  0.032051    0.837413\n",
       "C1              0.158921  0.032234    0.808846\n",
       "C2              0.147179  0.039248    0.813573\n",
       "C3              0.164426  0.031024    0.804550\n",
       "C4              0.149292  0.021879    0.828829\n",
       "C5              0.168022  0.025745    0.806233\n",
       "D1              0.174688  0.000000    0.825312\n",
       "D2              0.189737  0.047733    0.762530\n",
       "D3              0.215084  0.050279    0.734637\n",
       "D4              0.217600  0.056000    0.726400\n",
       "D5              0.232342  0.046468    0.721190\n",
       "E1              0.255717  0.039501    0.704782\n",
       "E2              0.242500  0.067500    0.690000\n",
       "E3              0.212707  0.058011    0.729282\n",
       "E4              0.278746  0.073171    0.648084\n",
       "E5              0.259690  0.069767    0.670543\n",
       "F1              0.294393  0.051402    0.654206\n",
       "F2              0.294872  0.070513    0.634615\n",
       "F3              0.247788  0.053097    0.699115\n",
       "F4              0.281250  0.104167    0.614583\n",
       "F5              0.416667  0.027778    0.555556\n",
       "G1              0.283333  0.100000    0.616667\n",
       "G2              0.341463  0.024390    0.634146\n",
       "G3              0.371429  0.085714    0.542857\n",
       "G4              0.214286  0.023810    0.761905\n",
       "G5              0.428571  0.000000    0.571429"
      ]
     },
     "execution_count": 43,
     "metadata": {},
     "output_type": "execute_result"
    }
   ],
   "source": [
    "#Significant\n",
    "pd.crosstab(loan_df[\"sub_grade\"], [loan_df[\"loan_status\"]], normalize=\"index\")\n"
   ]
  },
  {
   "cell_type": "code",
   "execution_count": 44,
   "metadata": {},
   "outputs": [
    {
     "data": {
      "text/html": [
       "<div>\n",
       "<style scoped>\n",
       "    .dataframe tbody tr th:only-of-type {\n",
       "        vertical-align: middle;\n",
       "    }\n",
       "\n",
       "    .dataframe tbody tr th {\n",
       "        vertical-align: top;\n",
       "    }\n",
       "\n",
       "    .dataframe thead th {\n",
       "        text-align: right;\n",
       "    }\n",
       "</style>\n",
       "<table border=\"1\" class=\"dataframe\">\n",
       "  <thead>\n",
       "    <tr style=\"text-align: right;\">\n",
       "      <th>loan_status</th>\n",
       "      <th>Charged Off</th>\n",
       "      <th>Current</th>\n",
       "      <th>Fully Paid</th>\n",
       "    </tr>\n",
       "    <tr>\n",
       "      <th>addr_state</th>\n",
       "      <th></th>\n",
       "      <th></th>\n",
       "      <th></th>\n",
       "    </tr>\n",
       "  </thead>\n",
       "  <tbody>\n",
       "    <tr>\n",
       "      <th>AK</th>\n",
       "      <td>0.230769</td>\n",
       "      <td>0.000000</td>\n",
       "      <td>0.769231</td>\n",
       "    </tr>\n",
       "    <tr>\n",
       "      <th>AL</th>\n",
       "      <td>0.120438</td>\n",
       "      <td>0.047445</td>\n",
       "      <td>0.832117</td>\n",
       "    </tr>\n",
       "    <tr>\n",
       "      <th>AR</th>\n",
       "      <td>0.122581</td>\n",
       "      <td>0.032258</td>\n",
       "      <td>0.845161</td>\n",
       "    </tr>\n",
       "    <tr>\n",
       "      <th>AZ</th>\n",
       "      <td>0.138837</td>\n",
       "      <td>0.031895</td>\n",
       "      <td>0.829268</td>\n",
       "    </tr>\n",
       "    <tr>\n",
       "      <th>CA</th>\n",
       "      <td>0.150103</td>\n",
       "      <td>0.019509</td>\n",
       "      <td>0.830388</td>\n",
       "    </tr>\n",
       "    <tr>\n",
       "      <th>CO</th>\n",
       "      <td>0.123232</td>\n",
       "      <td>0.038384</td>\n",
       "      <td>0.838384</td>\n",
       "    </tr>\n",
       "    <tr>\n",
       "      <th>CT</th>\n",
       "      <td>0.136054</td>\n",
       "      <td>0.038549</td>\n",
       "      <td>0.825397</td>\n",
       "    </tr>\n",
       "    <tr>\n",
       "      <th>DC</th>\n",
       "      <td>0.090226</td>\n",
       "      <td>0.015038</td>\n",
       "      <td>0.894737</td>\n",
       "    </tr>\n",
       "    <tr>\n",
       "      <th>DE</th>\n",
       "      <td>0.082192</td>\n",
       "      <td>0.013699</td>\n",
       "      <td>0.904110</td>\n",
       "    </tr>\n",
       "    <tr>\n",
       "      <th>FL</th>\n",
       "      <td>0.177053</td>\n",
       "      <td>0.027956</td>\n",
       "      <td>0.794991</td>\n",
       "    </tr>\n",
       "    <tr>\n",
       "      <th>GA</th>\n",
       "      <td>0.149543</td>\n",
       "      <td>0.028539</td>\n",
       "      <td>0.821918</td>\n",
       "    </tr>\n",
       "    <tr>\n",
       "      <th>HI</th>\n",
       "      <td>0.173077</td>\n",
       "      <td>0.019231</td>\n",
       "      <td>0.807692</td>\n",
       "    </tr>\n",
       "    <tr>\n",
       "      <th>IA</th>\n",
       "      <td>0.000000</td>\n",
       "      <td>0.000000</td>\n",
       "      <td>1.000000</td>\n",
       "    </tr>\n",
       "    <tr>\n",
       "      <th>ID</th>\n",
       "      <td>0.000000</td>\n",
       "      <td>0.000000</td>\n",
       "      <td>1.000000</td>\n",
       "    </tr>\n",
       "    <tr>\n",
       "      <th>IL</th>\n",
       "      <td>0.133540</td>\n",
       "      <td>0.035197</td>\n",
       "      <td>0.831263</td>\n",
       "    </tr>\n",
       "    <tr>\n",
       "      <th>KS</th>\n",
       "      <td>0.082353</td>\n",
       "      <td>0.070588</td>\n",
       "      <td>0.847059</td>\n",
       "    </tr>\n",
       "    <tr>\n",
       "      <th>KY</th>\n",
       "      <td>0.139896</td>\n",
       "      <td>0.025907</td>\n",
       "      <td>0.834197</td>\n",
       "    </tr>\n",
       "    <tr>\n",
       "      <th>LA</th>\n",
       "      <td>0.121951</td>\n",
       "      <td>0.020325</td>\n",
       "      <td>0.857724</td>\n",
       "    </tr>\n",
       "    <tr>\n",
       "      <th>MA</th>\n",
       "      <td>0.109356</td>\n",
       "      <td>0.029162</td>\n",
       "      <td>0.861482</td>\n",
       "    </tr>\n",
       "    <tr>\n",
       "      <th>MD</th>\n",
       "      <td>0.130106</td>\n",
       "      <td>0.028744</td>\n",
       "      <td>0.841150</td>\n",
       "    </tr>\n",
       "    <tr>\n",
       "      <th>MI</th>\n",
       "      <td>0.126949</td>\n",
       "      <td>0.017817</td>\n",
       "      <td>0.855234</td>\n",
       "    </tr>\n",
       "    <tr>\n",
       "      <th>MN</th>\n",
       "      <td>0.144638</td>\n",
       "      <td>0.007481</td>\n",
       "      <td>0.847880</td>\n",
       "    </tr>\n",
       "    <tr>\n",
       "      <th>MO</th>\n",
       "      <td>0.157518</td>\n",
       "      <td>0.023866</td>\n",
       "      <td>0.818616</td>\n",
       "    </tr>\n",
       "    <tr>\n",
       "      <th>MS</th>\n",
       "      <td>0.058824</td>\n",
       "      <td>0.000000</td>\n",
       "      <td>0.941176</td>\n",
       "    </tr>\n",
       "    <tr>\n",
       "      <th>MT</th>\n",
       "      <td>0.117647</td>\n",
       "      <td>0.000000</td>\n",
       "      <td>0.882353</td>\n",
       "    </tr>\n",
       "    <tr>\n",
       "      <th>NC</th>\n",
       "      <td>0.131148</td>\n",
       "      <td>0.051522</td>\n",
       "      <td>0.817330</td>\n",
       "    </tr>\n",
       "    <tr>\n",
       "      <th>NE</th>\n",
       "      <td>0.000000</td>\n",
       "      <td>0.000000</td>\n",
       "      <td>1.000000</td>\n",
       "    </tr>\n",
       "    <tr>\n",
       "      <th>NH</th>\n",
       "      <td>0.157407</td>\n",
       "      <td>0.009259</td>\n",
       "      <td>0.833333</td>\n",
       "    </tr>\n",
       "    <tr>\n",
       "      <th>NJ</th>\n",
       "      <td>0.143594</td>\n",
       "      <td>0.034394</td>\n",
       "      <td>0.822012</td>\n",
       "    </tr>\n",
       "    <tr>\n",
       "      <th>NM</th>\n",
       "      <td>0.188679</td>\n",
       "      <td>0.028302</td>\n",
       "      <td>0.783019</td>\n",
       "    </tr>\n",
       "    <tr>\n",
       "      <th>NV</th>\n",
       "      <td>0.220395</td>\n",
       "      <td>0.036184</td>\n",
       "      <td>0.743421</td>\n",
       "    </tr>\n",
       "    <tr>\n",
       "      <th>NY</th>\n",
       "      <td>0.131059</td>\n",
       "      <td>0.028725</td>\n",
       "      <td>0.840215</td>\n",
       "    </tr>\n",
       "    <tr>\n",
       "      <th>OH</th>\n",
       "      <td>0.115735</td>\n",
       "      <td>0.031209</td>\n",
       "      <td>0.853056</td>\n",
       "    </tr>\n",
       "    <tr>\n",
       "      <th>OK</th>\n",
       "      <td>0.136126</td>\n",
       "      <td>0.036649</td>\n",
       "      <td>0.827225</td>\n",
       "    </tr>\n",
       "    <tr>\n",
       "      <th>OR</th>\n",
       "      <td>0.158249</td>\n",
       "      <td>0.037037</td>\n",
       "      <td>0.804714</td>\n",
       "    </tr>\n",
       "    <tr>\n",
       "      <th>PA</th>\n",
       "      <td>0.098121</td>\n",
       "      <td>0.029228</td>\n",
       "      <td>0.872651</td>\n",
       "    </tr>\n",
       "    <tr>\n",
       "      <th>RI</th>\n",
       "      <td>0.134921</td>\n",
       "      <td>0.031746</td>\n",
       "      <td>0.833333</td>\n",
       "    </tr>\n",
       "    <tr>\n",
       "      <th>SC</th>\n",
       "      <td>0.141914</td>\n",
       "      <td>0.026403</td>\n",
       "      <td>0.831683</td>\n",
       "    </tr>\n",
       "    <tr>\n",
       "      <th>SD</th>\n",
       "      <td>0.241379</td>\n",
       "      <td>0.034483</td>\n",
       "      <td>0.724138</td>\n",
       "    </tr>\n",
       "    <tr>\n",
       "      <th>TN</th>\n",
       "      <td>0.222222</td>\n",
       "      <td>0.000000</td>\n",
       "      <td>0.777778</td>\n",
       "    </tr>\n",
       "    <tr>\n",
       "      <th>TX</th>\n",
       "      <td>0.102065</td>\n",
       "      <td>0.025959</td>\n",
       "      <td>0.871976</td>\n",
       "    </tr>\n",
       "    <tr>\n",
       "      <th>UT</th>\n",
       "      <td>0.156627</td>\n",
       "      <td>0.030120</td>\n",
       "      <td>0.813253</td>\n",
       "    </tr>\n",
       "    <tr>\n",
       "      <th>VA</th>\n",
       "      <td>0.118463</td>\n",
       "      <td>0.024546</td>\n",
       "      <td>0.856990</td>\n",
       "    </tr>\n",
       "    <tr>\n",
       "      <th>VT</th>\n",
       "      <td>0.088235</td>\n",
       "      <td>0.000000</td>\n",
       "      <td>0.911765</td>\n",
       "    </tr>\n",
       "    <tr>\n",
       "      <th>WA</th>\n",
       "      <td>0.158416</td>\n",
       "      <td>0.031683</td>\n",
       "      <td>0.809901</td>\n",
       "    </tr>\n",
       "    <tr>\n",
       "      <th>WI</th>\n",
       "      <td>0.096296</td>\n",
       "      <td>0.037037</td>\n",
       "      <td>0.866667</td>\n",
       "    </tr>\n",
       "    <tr>\n",
       "      <th>WV</th>\n",
       "      <td>0.125000</td>\n",
       "      <td>0.017857</td>\n",
       "      <td>0.857143</td>\n",
       "    </tr>\n",
       "    <tr>\n",
       "      <th>WY</th>\n",
       "      <td>0.051724</td>\n",
       "      <td>0.017241</td>\n",
       "      <td>0.931034</td>\n",
       "    </tr>\n",
       "  </tbody>\n",
       "</table>\n",
       "</div>"
      ],
      "text/plain": [
       "loan_status  Charged Off   Current  Fully Paid\n",
       "addr_state                                    \n",
       "AK              0.230769  0.000000    0.769231\n",
       "AL              0.120438  0.047445    0.832117\n",
       "AR              0.122581  0.032258    0.845161\n",
       "AZ              0.138837  0.031895    0.829268\n",
       "CA              0.150103  0.019509    0.830388\n",
       "CO              0.123232  0.038384    0.838384\n",
       "CT              0.136054  0.038549    0.825397\n",
       "DC              0.090226  0.015038    0.894737\n",
       "DE              0.082192  0.013699    0.904110\n",
       "FL              0.177053  0.027956    0.794991\n",
       "GA              0.149543  0.028539    0.821918\n",
       "HI              0.173077  0.019231    0.807692\n",
       "IA              0.000000  0.000000    1.000000\n",
       "ID              0.000000  0.000000    1.000000\n",
       "IL              0.133540  0.035197    0.831263\n",
       "KS              0.082353  0.070588    0.847059\n",
       "KY              0.139896  0.025907    0.834197\n",
       "LA              0.121951  0.020325    0.857724\n",
       "MA              0.109356  0.029162    0.861482\n",
       "MD              0.130106  0.028744    0.841150\n",
       "MI              0.126949  0.017817    0.855234\n",
       "MN              0.144638  0.007481    0.847880\n",
       "MO              0.157518  0.023866    0.818616\n",
       "MS              0.058824  0.000000    0.941176\n",
       "MT              0.117647  0.000000    0.882353\n",
       "NC              0.131148  0.051522    0.817330\n",
       "NE              0.000000  0.000000    1.000000\n",
       "NH              0.157407  0.009259    0.833333\n",
       "NJ              0.143594  0.034394    0.822012\n",
       "NM              0.188679  0.028302    0.783019\n",
       "NV              0.220395  0.036184    0.743421\n",
       "NY              0.131059  0.028725    0.840215\n",
       "OH              0.115735  0.031209    0.853056\n",
       "OK              0.136126  0.036649    0.827225\n",
       "OR              0.158249  0.037037    0.804714\n",
       "PA              0.098121  0.029228    0.872651\n",
       "RI              0.134921  0.031746    0.833333\n",
       "SC              0.141914  0.026403    0.831683\n",
       "SD              0.241379  0.034483    0.724138\n",
       "TN              0.222222  0.000000    0.777778\n",
       "TX              0.102065  0.025959    0.871976\n",
       "UT              0.156627  0.030120    0.813253\n",
       "VA              0.118463  0.024546    0.856990\n",
       "VT              0.088235  0.000000    0.911765\n",
       "WA              0.158416  0.031683    0.809901\n",
       "WI              0.096296  0.037037    0.866667\n",
       "WV              0.125000  0.017857    0.857143\n",
       "WY              0.051724  0.017241    0.931034"
      ]
     },
     "execution_count": 44,
     "metadata": {},
     "output_type": "execute_result"
    }
   ],
   "source": [
    "#Significant\n",
    "pd.crosstab(loan_df[\"addr_state\"], [loan_df[\"loan_status\"]], normalize=\"index\")"
   ]
  },
  {
   "cell_type": "code",
   "execution_count": 45,
   "metadata": {},
   "outputs": [
    {
     "data": {
      "text/html": [
       "<div>\n",
       "<style scoped>\n",
       "    .dataframe tbody tr th:only-of-type {\n",
       "        vertical-align: middle;\n",
       "    }\n",
       "\n",
       "    .dataframe tbody tr th {\n",
       "        vertical-align: top;\n",
       "    }\n",
       "\n",
       "    .dataframe thead th {\n",
       "        text-align: right;\n",
       "    }\n",
       "</style>\n",
       "<table border=\"1\" class=\"dataframe\">\n",
       "  <thead>\n",
       "    <tr style=\"text-align: right;\">\n",
       "      <th>loan_status</th>\n",
       "      <th>Charged Off</th>\n",
       "      <th>Current</th>\n",
       "      <th>Fully Paid</th>\n",
       "    </tr>\n",
       "    <tr>\n",
       "      <th>zip_code</th>\n",
       "      <th></th>\n",
       "      <th></th>\n",
       "      <th></th>\n",
       "    </tr>\n",
       "  </thead>\n",
       "  <tbody>\n",
       "    <tr>\n",
       "      <th>007xx</th>\n",
       "      <td>0.000000</td>\n",
       "      <td>0.000000</td>\n",
       "      <td>1.000000</td>\n",
       "    </tr>\n",
       "    <tr>\n",
       "      <th>010xx</th>\n",
       "      <td>0.107143</td>\n",
       "      <td>0.000000</td>\n",
       "      <td>0.892857</td>\n",
       "    </tr>\n",
       "    <tr>\n",
       "      <th>011xx</th>\n",
       "      <td>0.111111</td>\n",
       "      <td>0.000000</td>\n",
       "      <td>0.888889</td>\n",
       "    </tr>\n",
       "    <tr>\n",
       "      <th>012xx</th>\n",
       "      <td>0.090909</td>\n",
       "      <td>0.090909</td>\n",
       "      <td>0.818182</td>\n",
       "    </tr>\n",
       "    <tr>\n",
       "      <th>013xx</th>\n",
       "      <td>0.214286</td>\n",
       "      <td>0.071429</td>\n",
       "      <td>0.714286</td>\n",
       "    </tr>\n",
       "    <tr>\n",
       "      <th>...</th>\n",
       "      <td>...</td>\n",
       "      <td>...</td>\n",
       "      <td>...</td>\n",
       "    </tr>\n",
       "    <tr>\n",
       "      <th>995xx</th>\n",
       "      <td>0.157895</td>\n",
       "      <td>0.000000</td>\n",
       "      <td>0.842105</td>\n",
       "    </tr>\n",
       "    <tr>\n",
       "      <th>996xx</th>\n",
       "      <td>0.250000</td>\n",
       "      <td>0.000000</td>\n",
       "      <td>0.750000</td>\n",
       "    </tr>\n",
       "    <tr>\n",
       "      <th>997xx</th>\n",
       "      <td>0.333333</td>\n",
       "      <td>0.000000</td>\n",
       "      <td>0.666667</td>\n",
       "    </tr>\n",
       "    <tr>\n",
       "      <th>998xx</th>\n",
       "      <td>0.000000</td>\n",
       "      <td>0.000000</td>\n",
       "      <td>1.000000</td>\n",
       "    </tr>\n",
       "    <tr>\n",
       "      <th>999xx</th>\n",
       "      <td>1.000000</td>\n",
       "      <td>0.000000</td>\n",
       "      <td>0.000000</td>\n",
       "    </tr>\n",
       "  </tbody>\n",
       "</table>\n",
       "<p>788 rows × 3 columns</p>\n",
       "</div>"
      ],
      "text/plain": [
       "loan_status  Charged Off   Current  Fully Paid\n",
       "zip_code                                      \n",
       "007xx           0.000000  0.000000    1.000000\n",
       "010xx           0.107143  0.000000    0.892857\n",
       "011xx           0.111111  0.000000    0.888889\n",
       "012xx           0.090909  0.090909    0.818182\n",
       "013xx           0.214286  0.071429    0.714286\n",
       "...                  ...       ...         ...\n",
       "995xx           0.157895  0.000000    0.842105\n",
       "996xx           0.250000  0.000000    0.750000\n",
       "997xx           0.333333  0.000000    0.666667\n",
       "998xx           0.000000  0.000000    1.000000\n",
       "999xx           1.000000  0.000000    0.000000\n",
       "\n",
       "[788 rows x 3 columns]"
      ]
     },
     "execution_count": 45,
     "metadata": {},
     "output_type": "execute_result"
    }
   ],
   "source": [
    "# Significant\n",
    "pd.crosstab(loan_df[\"zip_code\"], [loan_df[\"loan_status\"]], normalize=\"index\")"
   ]
  },
  {
   "cell_type": "code",
   "execution_count": 46,
   "metadata": {},
   "outputs": [
    {
     "data": {
      "text/plain": [
       "(146, 3)"
      ]
     },
     "execution_count": 46,
     "metadata": {},
     "output_type": "execute_result"
    }
   ],
   "source": [
    "tab = pd.crosstab(loan_df[\"zip_code\"], [loan_df[\"loan_status\"]], normalize=\"index\")\n",
    "tab[tab[\"Charged Off\"] > 0.2].shape"
   ]
  },
  {
   "cell_type": "markdown",
   "metadata": {},
   "source": [
    "### Derived Metrics: "
   ]
  },
  {
   "cell_type": "markdown",
   "metadata": {},
   "source": [
    "#### Business-driven"
   ]
  },
  {
   "cell_type": "code",
   "execution_count": 47,
   "metadata": {},
   "outputs": [],
   "source": [
    "loan_df[\"emi_burden\"] = round(loan_df[\"annual_inc\"] / loan_df[\"installment\"])"
   ]
  },
  {
   "cell_type": "code",
   "execution_count": 48,
   "metadata": {},
   "outputs": [
    {
     "data": {
      "text/plain": [
       "loan_status\n",
       "Charged Off    239.176983\n",
       "Current        236.284242\n",
       "Fully Paid     290.875386\n",
       "Name: emi_burden, dtype: float64"
      ]
     },
     "execution_count": 48,
     "metadata": {},
     "output_type": "execute_result"
    }
   ],
   "source": [
    "loan_df.groupby(by=\"loan_status\")[\"emi_burden\"].mean()"
   ]
  },
  {
   "cell_type": "code",
   "execution_count": 49,
   "metadata": {},
   "outputs": [
    {
     "data": {
      "text/plain": [
       "loan_status\n",
       "Charged Off    173.0\n",
       "Current        176.0\n",
       "Fully Paid     205.0\n",
       "Name: emi_burden, dtype: float64"
      ]
     },
     "execution_count": 49,
     "metadata": {},
     "output_type": "execute_result"
    }
   ],
   "source": [
    "loan_df.groupby(by=\"loan_status\")[\"emi_burden\"].median()\n",
    "\n",
    "# significant obv"
   ]
  },
  {
   "cell_type": "code",
   "execution_count": 50,
   "metadata": {},
   "outputs": [],
   "source": [
    "loan_df[\"inc_loan_ratio\"] = round(loan_df[\"annual_inc\"] / loan_df[\"loan_amnt\"] )"
   ]
  },
  {
   "cell_type": "code",
   "execution_count": 51,
   "metadata": {},
   "outputs": [
    {
     "data": {
      "text/plain": [
       "loan_status\n",
       "Charged Off    6.885216\n",
       "Current        5.474227\n",
       "Fully Paid     8.763077\n",
       "Name: inc_loan_ratio, dtype: float64"
      ]
     },
     "execution_count": 51,
     "metadata": {},
     "output_type": "execute_result"
    }
   ],
   "source": [
    "loan_df.groupby(\"loan_status\")[\"inc_loan_ratio\"].mean()"
   ]
  },
  {
   "cell_type": "code",
   "execution_count": 52,
   "metadata": {},
   "outputs": [
    {
     "data": {
      "text/plain": [
       "loan_status\n",
       "Charged Off    5.0\n",
       "Current        4.0\n",
       "Fully Paid     6.0\n",
       "Name: inc_loan_ratio, dtype: float64"
      ]
     },
     "execution_count": 52,
     "metadata": {},
     "output_type": "execute_result"
    }
   ],
   "source": [
    "loan_df.groupby(\"loan_status\")[\"inc_loan_ratio\"].median()"
   ]
  },
  {
   "cell_type": "markdown",
   "metadata": {},
   "source": [
    "#### Type_driven"
   ]
  },
  {
   "cell_type": "markdown",
   "metadata": {},
   "source": [
    "#### Data-driven"
   ]
  },
  {
   "cell_type": "code",
   "execution_count": 53,
   "metadata": {},
   "outputs": [],
   "source": [
    "# convert term back to category"
   ]
  },
  {
   "cell_type": "markdown",
   "metadata": {},
   "source": [
    "### Bi-variate Analysis"
   ]
  },
  {
   "cell_type": "code",
   "execution_count": 54,
   "metadata": {},
   "outputs": [],
   "source": [
    "## loan_amnt vs interest rate"
   ]
  },
  {
   "cell_type": "code",
   "execution_count": 55,
   "metadata": {},
   "outputs": [
    {
     "data": {
      "text/html": [
       "<div>\n",
       "<style scoped>\n",
       "    .dataframe tbody tr th:only-of-type {\n",
       "        vertical-align: middle;\n",
       "    }\n",
       "\n",
       "    .dataframe tbody tr th {\n",
       "        vertical-align: top;\n",
       "    }\n",
       "\n",
       "    .dataframe thead th {\n",
       "        text-align: right;\n",
       "    }\n",
       "</style>\n",
       "<table border=\"1\" class=\"dataframe\">\n",
       "  <thead>\n",
       "    <tr style=\"text-align: right;\">\n",
       "      <th>term</th>\n",
       "      <th>36</th>\n",
       "      <th>60</th>\n",
       "    </tr>\n",
       "    <tr>\n",
       "      <th>loan_status</th>\n",
       "      <th></th>\n",
       "      <th></th>\n",
       "    </tr>\n",
       "  </thead>\n",
       "  <tbody>\n",
       "    <tr>\n",
       "      <th>Charged Off</th>\n",
       "      <td>0.103957</td>\n",
       "      <td>0.224474</td>\n",
       "    </tr>\n",
       "    <tr>\n",
       "      <th>Current</th>\n",
       "      <td>0.000000</td>\n",
       "      <td>0.103475</td>\n",
       "    </tr>\n",
       "    <tr>\n",
       "      <th>Fully Paid</th>\n",
       "      <td>0.896043</td>\n",
       "      <td>0.672051</td>\n",
       "    </tr>\n",
       "  </tbody>\n",
       "</table>\n",
       "</div>"
      ],
      "text/plain": [
       "term               36        60\n",
       "loan_status                    \n",
       "Charged Off  0.103957  0.224474\n",
       "Current      0.000000  0.103475\n",
       "Fully Paid   0.896043  0.672051"
      ]
     },
     "execution_count": 55,
     "metadata": {},
     "output_type": "execute_result"
    }
   ],
   "source": [
    "## loan_amnt vs term vs others\n",
    "pd.crosstab(loan_df[\"loan_status\"], [loan_df[\"term\"]], normalize=\"columns\")"
   ]
  },
  {
   "cell_type": "code",
   "execution_count": 56,
   "metadata": {},
   "outputs": [
    {
     "data": {
      "text/plain": [
       "loan_status  term\n",
       "Charged Off  36      12.491450\n",
       "             60      15.735587\n",
       "Current      60      15.058895\n",
       "Fully Paid   36      10.941388\n",
       "             60      14.414558\n",
       "Name: int_rate, dtype: float64"
      ]
     },
     "execution_count": 56,
     "metadata": {},
     "output_type": "execute_result"
    }
   ],
   "source": [
    "loan_df.groupby(by=[\"loan_status\", \"term\"])[\"int_rate\"].mean()"
   ]
  },
  {
   "cell_type": "code",
   "execution_count": 57,
   "metadata": {},
   "outputs": [
    {
     "data": {
      "text/plain": [
       "loan_status  grade\n",
       "Charged Off  A         8413.033537\n",
       "             B        11614.791667\n",
       "             C        11592.477876\n",
       "             D        12856.956845\n",
       "             E        16401.407658\n",
       "             F        19839.175258\n",
       "             G        18702.118644\n",
       "Current      A        10868.181818\n",
       "             B        17877.657005\n",
       "             C        16625.159236\n",
       "             D        15643.382353\n",
       "             E        19281.839623\n",
       "             F        24601.250000\n",
       "             G        21756.818182\n",
       "Fully Paid   A         8891.434942\n",
       "             B        11405.017342\n",
       "             C        11146.528966\n",
       "             D        12397.722672\n",
       "             E        15960.823910\n",
       "             F        17985.011990\n",
       "             G        22012.704918\n",
       "Name: loan_amnt, dtype: float64"
      ]
     },
     "execution_count": 57,
     "metadata": {},
     "output_type": "execute_result"
    }
   ],
   "source": [
    "loan_df.groupby(by=[\"loan_status\", \"grade\"])[\"loan_amnt\"].mean()"
   ]
  },
  {
   "cell_type": "code",
   "execution_count": 58,
   "metadata": {},
   "outputs": [
    {
     "data": {
      "image/png": "[encoded data removed]",
      "text/plain": [
       "<Figure size 1476x576 with 1 Axes>"
      ]
     },
     "metadata": {
      "needs_background": "light"
     },
     "output_type": "display_data"
    }
   ],
   "source": [
    "## Insight Region wise acceptable loan_amnt for not defaulting\n",
    "df = loan_df.groupby(by=[\"loan_status\", \"addr_state\"], as_index=False)[\"loan_amnt\"].median()\n",
    "\n",
    "temp_df = df.pivot(index=\"addr_state\" , columns=\"loan_status\")\n",
    "temp_df.columns = [\"Charged Off\", \"Current\", \"Fully Paid\"]\n",
    "\n",
    "fig, ax = plt.subplots()\n",
    "fig.set_size_inches(20.5, 8, forward=True)\n",
    "ax = sns.lineplot(x=temp_df.index, y=temp_df[\"Charged Off\"])\n",
    "ax = sns.lineplot(x=temp_df.index, y=temp_df[\"Fully Paid\"])\n",
    "plt.show()"
   ]
  },
  {
   "cell_type": "code",
   "execution_count": 59,
   "metadata": {},
   "outputs": [
    {
     "data": {
      "image/png": "[encoded data removed]",
      "text/plain": [
       "<Figure size 1476x576 with 1 Axes>"
      ]
     },
     "metadata": {
      "needs_background": "light"
     },
     "output_type": "display_data"
    }
   ],
   "source": [
    "## Insight Region wise acceptable int_rate for not defaulting\n",
    "df = loan_df.groupby(by=[\"loan_status\", \"addr_state\"], as_index=False)[\"int_rate\"].median()\n",
    "\n",
    "temp_df = df.pivot(index=\"addr_state\" , columns=\"loan_status\")\n",
    "temp_df.columns = [\"Charged Off\", \"Current\", \"Fully Paid\"]\n",
    "\n",
    "fig, ax = plt.subplots()\n",
    "fig.set_size_inches(20.5, 8, forward=True)\n",
    "ax = sns.lineplot(x=temp_df.index, y=temp_df[\"Charged Off\"])\n",
    "ax = sns.lineplot(x=temp_df.index, y=temp_df[\"Fully Paid\"])\n",
    "plt.show()"
   ]
  },
  {
   "cell_type": "code",
   "execution_count": 60,
   "metadata": {},
   "outputs": [
    {
     "data": {
      "image/png": "[encoded data removed]",
      "text/plain": [
       "<Figure size 1476x576 with 1 Axes>"
      ]
     },
     "metadata": {
      "needs_background": "light"
     },
     "output_type": "display_data"
    }
   ],
   "source": [
    "## Insight Region wise acceptable int_rate for not defaulting\n",
    "df = loan_df.groupby(by=[\"loan_status\", \"grade\"], as_index=False)[\"int_rate\"].median()\n",
    "\n",
    "temp_df = df.pivot(index=\"grade\" , columns=\"loan_status\")\n",
    "temp_df.columns = [\"Charged Off\", \"Current\", \"Fully Paid\"]\n",
    "\n",
    "fig, ax = plt.subplots()\n",
    "fig.set_size_inches(20.5, 8, forward=True)\n",
    "ax = sns.lineplot(x=temp_df.index, y=temp_df[\"Charged Off\"])\n",
    "ax = sns.lineplot(x=temp_df.index, y=temp_df[\"Fully Paid\"])\n",
    "plt.show()"
   ]
  },
  {
   "cell_type": "code",
   "execution_count": 61,
   "metadata": {},
   "outputs": [
    {
     "data": {
      "text/html": [
       "<div>\n",
       "<style scoped>\n",
       "    .dataframe tbody tr th:only-of-type {\n",
       "        vertical-align: middle;\n",
       "    }\n",
       "\n",
       "    .dataframe tbody tr th {\n",
       "        vertical-align: top;\n",
       "    }\n",
       "\n",
       "    .dataframe thead th {\n",
       "        text-align: right;\n",
       "    }\n",
       "</style>\n",
       "<table border=\"1\" class=\"dataframe\">\n",
       "  <thead>\n",
       "    <tr style=\"text-align: right;\">\n",
       "      <th></th>\n",
       "      <th>Charged Off</th>\n",
       "      <th>Current</th>\n",
       "      <th>Fully Paid</th>\n",
       "    </tr>\n",
       "    <tr>\n",
       "      <th>grade</th>\n",
       "      <th></th>\n",
       "      <th></th>\n",
       "      <th></th>\n",
       "    </tr>\n",
       "  </thead>\n",
       "  <tbody>\n",
       "    <tr>\n",
       "      <th>A</th>\n",
       "      <td>7.66</td>\n",
       "      <td>8.490</td>\n",
       "      <td>7.49</td>\n",
       "    </tr>\n",
       "    <tr>\n",
       "      <th>B</th>\n",
       "      <td>11.26</td>\n",
       "      <td>11.710</td>\n",
       "      <td>10.99</td>\n",
       "    </tr>\n",
       "    <tr>\n",
       "      <th>C</th>\n",
       "      <td>13.49</td>\n",
       "      <td>14.270</td>\n",
       "      <td>13.48</td>\n",
       "    </tr>\n",
       "    <tr>\n",
       "      <th>D</th>\n",
       "      <td>15.65</td>\n",
       "      <td>16.890</td>\n",
       "      <td>15.57</td>\n",
       "    </tr>\n",
       "    <tr>\n",
       "      <th>E</th>\n",
       "      <td>17.74</td>\n",
       "      <td>19.030</td>\n",
       "      <td>17.19</td>\n",
       "    </tr>\n",
       "    <tr>\n",
       "      <th>F</th>\n",
       "      <td>20.25</td>\n",
       "      <td>21.135</td>\n",
       "      <td>18.99</td>\n",
       "    </tr>\n",
       "    <tr>\n",
       "      <th>G</th>\n",
       "      <td>20.90</td>\n",
       "      <td>22.740</td>\n",
       "      <td>20.88</td>\n",
       "    </tr>\n",
       "  </tbody>\n",
       "</table>\n",
       "</div>"
      ],
      "text/plain": [
       "       Charged Off  Current  Fully Paid\n",
       "grade                                  \n",
       "A             7.66    8.490        7.49\n",
       "B            11.26   11.710       10.99\n",
       "C            13.49   14.270       13.48\n",
       "D            15.65   16.890       15.57\n",
       "E            17.74   19.030       17.19\n",
       "F            20.25   21.135       18.99\n",
       "G            20.90   22.740       20.88"
      ]
     },
     "execution_count": 61,
     "metadata": {},
     "output_type": "execute_result"
    }
   ],
   "source": [
    "temp_df"
   ]
  },
  {
   "cell_type": "code",
   "execution_count": 62,
   "metadata": {},
   "outputs": [
    {
     "data": {
      "image/png": "[encoded data removed]",
      "text/plain": [
       "<Figure size 1476x576 with 1 Axes>"
      ]
     },
     "metadata": {
      "needs_background": "light"
     },
     "output_type": "display_data"
    }
   ],
   "source": [
    "## Insight Region wise acceptable int_rate for not defaulting\n",
    "df = loan_df.groupby(by=[\"loan_status\", \"grade\"], as_index=False)[\"loan_amnt\"].mean()\n",
    "\n",
    "temp_df = df.pivot(index=\"grade\" , columns=\"loan_status\")\n",
    "temp_df.columns = [\"Charged Off\", \"Current\", \"Fully Paid\"]\n",
    "\n",
    "fig, ax = plt.subplots()\n",
    "fig.set_size_inches(20.5, 8, forward=True)\n",
    "ax = sns.lineplot(x=temp_df.index, y=temp_df[\"Charged Off\"])\n",
    "ax = sns.lineplot(x=temp_df.index, y=temp_df[\"Fully Paid\"])\n",
    "plt.show()"
   ]
  },
  {
   "cell_type": "code",
   "execution_count": 63,
   "metadata": {},
   "outputs": [
    {
     "data": {
      "text/html": [
       "<div>\n",
       "<style scoped>\n",
       "    .dataframe tbody tr th:only-of-type {\n",
       "        vertical-align: middle;\n",
       "    }\n",
       "\n",
       "    .dataframe tbody tr th {\n",
       "        vertical-align: top;\n",
       "    }\n",
       "\n",
       "    .dataframe thead th {\n",
       "        text-align: right;\n",
       "    }\n",
       "</style>\n",
       "<table border=\"1\" class=\"dataframe\">\n",
       "  <thead>\n",
       "    <tr style=\"text-align: right;\">\n",
       "      <th></th>\n",
       "      <th>Charged Off</th>\n",
       "      <th>Current</th>\n",
       "      <th>Fully Paid</th>\n",
       "    </tr>\n",
       "    <tr>\n",
       "      <th>grade</th>\n",
       "      <th></th>\n",
       "      <th></th>\n",
       "      <th></th>\n",
       "    </tr>\n",
       "  </thead>\n",
       "  <tbody>\n",
       "    <tr>\n",
       "      <th>A</th>\n",
       "      <td>8413.033537</td>\n",
       "      <td>10868.181818</td>\n",
       "      <td>8891.434942</td>\n",
       "    </tr>\n",
       "    <tr>\n",
       "      <th>B</th>\n",
       "      <td>11614.791667</td>\n",
       "      <td>17877.657005</td>\n",
       "      <td>11405.017342</td>\n",
       "    </tr>\n",
       "    <tr>\n",
       "      <th>C</th>\n",
       "      <td>11592.477876</td>\n",
       "      <td>16625.159236</td>\n",
       "      <td>11146.528966</td>\n",
       "    </tr>\n",
       "    <tr>\n",
       "      <th>D</th>\n",
       "      <td>12856.956845</td>\n",
       "      <td>15643.382353</td>\n",
       "      <td>12397.722672</td>\n",
       "    </tr>\n",
       "    <tr>\n",
       "      <th>E</th>\n",
       "      <td>16401.407658</td>\n",
       "      <td>19281.839623</td>\n",
       "      <td>15960.823910</td>\n",
       "    </tr>\n",
       "    <tr>\n",
       "      <th>F</th>\n",
       "      <td>19839.175258</td>\n",
       "      <td>24601.250000</td>\n",
       "      <td>17985.011990</td>\n",
       "    </tr>\n",
       "    <tr>\n",
       "      <th>G</th>\n",
       "      <td>18702.118644</td>\n",
       "      <td>21756.818182</td>\n",
       "      <td>22012.704918</td>\n",
       "    </tr>\n",
       "  </tbody>\n",
       "</table>\n",
       "</div>"
      ],
      "text/plain": [
       "        Charged Off       Current    Fully Paid\n",
       "grade                                          \n",
       "A       8413.033537  10868.181818   8891.434942\n",
       "B      11614.791667  17877.657005  11405.017342\n",
       "C      11592.477876  16625.159236  11146.528966\n",
       "D      12856.956845  15643.382353  12397.722672\n",
       "E      16401.407658  19281.839623  15960.823910\n",
       "F      19839.175258  24601.250000  17985.011990\n",
       "G      18702.118644  21756.818182  22012.704918"
      ]
     },
     "execution_count": 63,
     "metadata": {},
     "output_type": "execute_result"
    }
   ],
   "source": [
    "temp_df"
   ]
  },
  {
   "cell_type": "code",
   "execution_count": 64,
   "metadata": {},
   "outputs": [
    {
     "data": {
      "image/png": "[encoded data removed]",
      "text/plain": [
       "<Figure size 1476x576 with 2 Axes>"
      ]
     },
     "metadata": {
      "needs_background": "light"
     },
     "output_type": "display_data"
    }
   ],
   "source": [
    "curr = loan_df.corr().abs()\n",
    "fig, ax = plt.subplots()\n",
    "fig.set_size_inches(20.5, 8, forward=True)\n",
    "ax = sns.heatmap(curr, cmap=\"Greens\")\n",
    "plt.show()\n",
    "\n",
    "# no meaningful insights"
   ]
  },
  {
   "cell_type": "markdown",
   "metadata": {},
   "source": [
    "# Rough"
   ]
  },
  {
   "cell_type": "code",
   "execution_count": null,
   "metadata": {},
   "outputs": [],
   "source": []
  }
 ],
 "metadata": {
  "interpreter": {
   "hash": "17537b59a2032bbc7e1e402562b716ee2ffafcb7a718ba71176ad13793621877"
  },
  "kernelspec": {
   "display_name": "Python 3.9.7 ('base')",
   "language": "python",
   "name": "python3"
  },
  "language_info": {
   "codemirror_mode": {
    "name": "ipython",
    "version": 3
   },
   "file_extension": ".py",
   "mimetype": "text/x-python",
   "name": "python",
   "nbconvert_exporter": "python",
   "pygments_lexer": "ipython3",
   "version": "3.9.7"
  },
  "orig_nbformat": 4
 },
 "nbformat": 4,
 "nbformat_minor": 2
}
